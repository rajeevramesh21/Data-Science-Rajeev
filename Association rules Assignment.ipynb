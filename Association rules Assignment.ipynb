{
 "cells": [
  {
   "cell_type": "code",
   "execution_count": 1,
   "metadata": {
    "scrolled": true
   },
   "outputs": [],
   "source": [
    "import pandas as pd"
   ]
  },
  {
   "cell_type": "code",
   "execution_count": 2,
   "metadata": {},
   "outputs": [],
   "source": [
    "import numpy as np"
   ]
  },
  {
   "cell_type": "code",
   "execution_count": 4,
   "metadata": {},
   "outputs": [],
   "source": [
    "with open('groceries.csv') as f:\n",
    "    df=f.read()"
   ]
  },
  {
   "cell_type": "code",
   "execution_count": 3,
   "metadata": {},
   "outputs": [],
   "source": [
    "import matplotlib.pyplot as plt"
   ]
  },
  {
   "cell_type": "code",
   "execution_count": 5,
   "metadata": {},
   "outputs": [],
   "source": [
    "df = df.split(\"\\n\")\n",
    "df_list = []\n",
    "for i in df:\n",
    "    df_list.append(i.split(\",\"))"
   ]
  },
  {
   "cell_type": "code",
   "execution_count": 6,
   "metadata": {},
   "outputs": [],
   "source": [
    "all_groceries_list = [i for item in df_list for i in item]"
   ]
  },
  {
   "cell_type": "code",
   "execution_count": 7,
   "metadata": {},
   "outputs": [],
   "source": [
    "from collections import Counter"
   ]
  },
  {
   "cell_type": "code",
   "execution_count": 8,
   "metadata": {},
   "outputs": [],
   "source": [
    "item_frequencies = Counter(all_groceries_list)"
   ]
  },
  {
   "cell_type": "code",
   "execution_count": 9,
   "metadata": {},
   "outputs": [],
   "source": [
    "#Sorting acc to frequencies"
   ]
  },
  {
   "cell_type": "code",
   "execution_count": 10,
   "metadata": {},
   "outputs": [],
   "source": [
    "item_frequencies = sorted(item_frequencies.items(),key = lambda x:x[1])"
   ]
  },
  {
   "cell_type": "code",
   "execution_count": 11,
   "metadata": {},
   "outputs": [],
   "source": [
    "# Storing frequencies and items in separate variables"
   ]
  },
  {
   "cell_type": "code",
   "execution_count": 12,
   "metadata": {},
   "outputs": [],
   "source": [
    "frequencies = list(reversed([i[1] for i in item_frequencies]))\n",
    "items = list(reversed([i[0] for i in item_frequencies]))"
   ]
  },
  {
   "cell_type": "code",
   "execution_count": 15,
   "metadata": {},
   "outputs": [
    {
     "data": {
      "text/plain": [
       "Text(0, 0.5, 'Count')"
      ]
     },
     "execution_count": 15,
     "metadata": {},
     "output_type": "execute_result"
    },
    {
     "data": {
      "image/png": "[encoded data removed]",
      "text/plain": [
       "<Figure size 432x288 with 1 Axes>"
      ]
     },
     "metadata": {
      "needs_background": "light"
     },
     "output_type": "display_data"
    }
   ],
   "source": [
    "plt.bar(height = frequencies[0:11],x = list(range(0,11)),color='rgbkymc');\n",
    "plt.xticks(list(range(0,11),),items[0:11]);\n",
    "plt.xlabel(\"items\")\n",
    "plt.ylabel(\"Count\")"
   ]
  },
  {
   "cell_type": "code",
   "execution_count": 18,
   "metadata": {},
   "outputs": [],
   "source": [
    "from mlxtend.frequent_patterns import apriori,association_rules"
   ]
  },
  {
   "cell_type": "code",
   "execution_count": 19,
   "metadata": {},
   "outputs": [],
   "source": [
    "groceries_series  = pd.DataFrame(pd.Series(df_list))\n",
    "groceries_series = groceries_series.iloc[:9835,:] # removing the last empty transaction"
   ]
  },
  {
   "cell_type": "code",
   "execution_count": 20,
   "metadata": {},
   "outputs": [
    {
     "data": {
      "text/plain": [
       "RangeIndex(start=0, stop=1, step=1)"
      ]
     },
     "execution_count": 20,
     "metadata": {},
     "output_type": "execute_result"
    }
   ],
   "source": [
    "groceries_series.columns"
   ]
  },
  {
   "cell_type": "code",
   "execution_count": 21,
   "metadata": {},
   "outputs": [],
   "source": [
    "groceries_series.columns = [\"transactions\"]"
   ]
  },
  {
   "cell_type": "code",
   "execution_count": 22,
   "metadata": {},
   "outputs": [],
   "source": [
    "X = groceries_series['transactions'].str.join(sep='*').str.get_dummies(sep='*')"
   ]
  },
  {
   "cell_type": "code",
   "execution_count": 23,
   "metadata": {},
   "outputs": [
    {
     "data": {
      "text/plain": [
       "(9835, 169)"
      ]
     },
     "execution_count": 23,
     "metadata": {},
     "output_type": "execute_result"
    }
   ],
   "source": [
    "X.shape"
   ]
  },
  {
   "cell_type": "code",
   "execution_count": 42,
   "metadata": {},
   "outputs": [],
   "source": [
    "frequent_itemsets = apriori(X, min_support=0.005, max_len=4,use_colnames = True)"
   ]
  },
  {
   "cell_type": "code",
   "execution_count": 43,
   "metadata": {},
   "outputs": [],
   "source": [
    "# Most Frequent item sets based on support "
   ]
  },
  {
   "cell_type": "code",
   "execution_count": 44,
   "metadata": {},
   "outputs": [],
   "source": [
    "frequent_itemsets.sort_values('support',ascending = False,inplace=True)"
   ]
  },
  {
   "cell_type": "code",
   "execution_count": 45,
   "metadata": {},
   "outputs": [
    {
     "data": {
      "text/plain": [
       "Text(0, 0.5, 'support')"
      ]
     },
     "execution_count": 45,
     "metadata": {},
     "output_type": "execute_result"
    },
    {
     "data": {
      "image/png": "[encoded data removed]",
      "text/plain": [
       "<Figure size 432x288 with 1 Axes>"
      ]
     },
     "metadata": {
      "needs_background": "light"
     },
     "output_type": "display_data"
    }
   ],
   "source": [
    "plt.bar(x= list(range(1,11)),height = frequent_itemsets.support[1:11],color='rgmyk');\n",
    "plt.xticks(list(range(1,11)),frequent_itemsets.itemsets[1:11])\n",
    "plt.xlabel('item-sets');\n",
    "plt.ylabel('support')"
   ]
  },
  {
   "cell_type": "code",
   "execution_count": 46,
   "metadata": {},
   "outputs": [],
   "source": [
    "rules = association_rules(frequent_itemsets, metric=\"lift\", min_threshold=1)"
   ]
  },
  {
   "cell_type": "code",
   "execution_count": 47,
   "metadata": {},
   "outputs": [],
   "source": [
    "from pandas.io.common import is_url"
   ]
  },
  {
   "cell_type": "code",
   "execution_count": 48,
   "metadata": {},
   "outputs": [
    {
     "data": {
      "text/html": [
       "<div>\n",
       "<style scoped>\n",
       "    .dataframe tbody tr th:only-of-type {\n",
       "        vertical-align: middle;\n",
       "    }\n",
       "\n",
       "    .dataframe tbody tr th {\n",
       "        vertical-align: top;\n",
       "    }\n",
       "\n",
       "    .dataframe thead th {\n",
       "        text-align: right;\n",
       "    }\n",
       "</style>\n",
       "<table border=\"1\" class=\"dataframe\">\n",
       "  <thead>\n",
       "    <tr style=\"text-align: right;\">\n",
       "      <th></th>\n",
       "      <th>antecedents</th>\n",
       "      <th>consequents</th>\n",
       "      <th>antecedent support</th>\n",
       "      <th>consequent support</th>\n",
       "      <th>support</th>\n",
       "      <th>confidence</th>\n",
       "      <th>lift</th>\n",
       "      <th>leverage</th>\n",
       "      <th>conviction</th>\n",
       "    </tr>\n",
       "  </thead>\n",
       "  <tbody>\n",
       "    <tr>\n",
       "      <th>0</th>\n",
       "      <td>(other vegetables)</td>\n",
       "      <td>(whole milk)</td>\n",
       "      <td>0.193493</td>\n",
       "      <td>0.255516</td>\n",
       "      <td>0.074835</td>\n",
       "      <td>0.386758</td>\n",
       "      <td>1.513634</td>\n",
       "      <td>0.025394</td>\n",
       "      <td>1.214013</td>\n",
       "    </tr>\n",
       "    <tr>\n",
       "      <th>1</th>\n",
       "      <td>(whole milk)</td>\n",
       "      <td>(other vegetables)</td>\n",
       "      <td>0.255516</td>\n",
       "      <td>0.193493</td>\n",
       "      <td>0.074835</td>\n",
       "      <td>0.292877</td>\n",
       "      <td>1.513634</td>\n",
       "      <td>0.025394</td>\n",
       "      <td>1.140548</td>\n",
       "    </tr>\n",
       "    <tr>\n",
       "      <th>2</th>\n",
       "      <td>(rolls/buns)</td>\n",
       "      <td>(whole milk)</td>\n",
       "      <td>0.183935</td>\n",
       "      <td>0.255516</td>\n",
       "      <td>0.056634</td>\n",
       "      <td>0.307905</td>\n",
       "      <td>1.205032</td>\n",
       "      <td>0.009636</td>\n",
       "      <td>1.075696</td>\n",
       "    </tr>\n",
       "    <tr>\n",
       "      <th>3</th>\n",
       "      <td>(whole milk)</td>\n",
       "      <td>(rolls/buns)</td>\n",
       "      <td>0.255516</td>\n",
       "      <td>0.183935</td>\n",
       "      <td>0.056634</td>\n",
       "      <td>0.221647</td>\n",
       "      <td>1.205032</td>\n",
       "      <td>0.009636</td>\n",
       "      <td>1.048452</td>\n",
       "    </tr>\n",
       "    <tr>\n",
       "      <th>4</th>\n",
       "      <td>(yogurt)</td>\n",
       "      <td>(whole milk)</td>\n",
       "      <td>0.139502</td>\n",
       "      <td>0.255516</td>\n",
       "      <td>0.056024</td>\n",
       "      <td>0.401603</td>\n",
       "      <td>1.571735</td>\n",
       "      <td>0.020379</td>\n",
       "      <td>1.244132</td>\n",
       "    </tr>\n",
       "  </tbody>\n",
       "</table>\n",
       "</div>"
      ],
      "text/plain": [
       "          antecedents         consequents  antecedent support  \\\n",
       "0  (other vegetables)        (whole milk)            0.193493   \n",
       "1        (whole milk)  (other vegetables)            0.255516   \n",
       "2        (rolls/buns)        (whole milk)            0.183935   \n",
       "3        (whole milk)        (rolls/buns)            0.255516   \n",
       "4            (yogurt)        (whole milk)            0.139502   \n",
       "\n",
       "   consequent support   support  confidence      lift  leverage  conviction  \n",
       "0            0.255516  0.074835    0.386758  1.513634  0.025394    1.214013  \n",
       "1            0.193493  0.074835    0.292877  1.513634  0.025394    1.140548  \n",
       "2            0.255516  0.056634    0.307905  1.205032  0.009636    1.075696  \n",
       "3            0.183935  0.056634    0.221647  1.205032  0.009636    1.048452  \n",
       "4            0.255516  0.056024    0.401603  1.571735  0.020379    1.244132  "
      ]
     },
     "execution_count": 48,
     "metadata": {},
     "output_type": "execute_result"
    }
   ],
   "source": [
    "rules.head(5)"
   ]
  },
  {
   "cell_type": "code",
   "execution_count": 49,
   "metadata": {},
   "outputs": [],
   "source": [
    "rules.sort_values('lift',ascending = False,inplace=True)"
   ]
  },
  {
   "cell_type": "code",
   "execution_count": 50,
   "metadata": {},
   "outputs": [],
   "source": [
    "def to_list(i):\n",
    "    return (sorted(list(i)))"
   ]
  },
  {
   "cell_type": "code",
   "execution_count": 51,
   "metadata": {},
   "outputs": [],
   "source": [
    "ma_X = rules.antecedents.apply(to_list)+rules.consequents.apply(to_list)"
   ]
  },
  {
   "cell_type": "code",
   "execution_count": 52,
   "metadata": {},
   "outputs": [],
   "source": [
    "ma_X = ma_X.apply(sorted)"
   ]
  },
  {
   "cell_type": "code",
   "execution_count": 53,
   "metadata": {},
   "outputs": [
    {
     "data": {
      "text/plain": [
       "2170    [root vegetables, tropical fruit, whole milk, ...\n",
       "2171    [root vegetables, tropical fruit, whole milk, ...\n",
       "2168    [root vegetables, tropical fruit, whole milk, ...\n",
       "2173    [root vegetables, tropical fruit, whole milk, ...\n",
       "2378    [other vegetables, pip fruit, root vegetables,...\n",
       "                              ...                        \n",
       "461                        [bottled water, shopping bags]\n",
       "277                               [pip fruit, rolls/buns]\n",
       "276                               [pip fruit, rolls/buns]\n",
       "2317                    [rolls/buns, specialty chocolate]\n",
       "2316                    [rolls/buns, specialty chocolate]\n",
       "Length: 2868, dtype: object"
      ]
     },
     "execution_count": 53,
     "metadata": {},
     "output_type": "execute_result"
    }
   ],
   "source": [
    "ma_X"
   ]
  },
  {
   "cell_type": "code",
   "execution_count": 54,
   "metadata": {},
   "outputs": [],
   "source": [
    "rules_sets = list(ma_X)"
   ]
  },
  {
   "cell_type": "code",
   "execution_count": 55,
   "metadata": {},
   "outputs": [],
   "source": [
    "unique_rules_sets = [list(m) for m in set(tuple(i) for i in rules_sets)]"
   ]
  },
  {
   "cell_type": "code",
   "execution_count": 56,
   "metadata": {},
   "outputs": [],
   "source": [
    "index_rules=[]"
   ]
  },
  {
   "cell_type": "code",
   "execution_count": 57,
   "metadata": {},
   "outputs": [],
   "source": [
    "for i in unique_rules_sets:\n",
    "    index_rules.append(rules_sets.index(i))"
   ]
  },
  {
   "cell_type": "code",
   "execution_count": 58,
   "metadata": {},
   "outputs": [],
   "source": [
    "# getting rules without any redudancy \n",
    "rules_no_redudancy  = rules.iloc[index_rules,:]"
   ]
  },
  {
   "cell_type": "code",
   "execution_count": 59,
   "metadata": {},
   "outputs": [
    {
     "data": {
      "text/html": [
       "<div>\n",
       "<style scoped>\n",
       "    .dataframe tbody tr th:only-of-type {\n",
       "        vertical-align: middle;\n",
       "    }\n",
       "\n",
       "    .dataframe tbody tr th {\n",
       "        vertical-align: top;\n",
       "    }\n",
       "\n",
       "    .dataframe thead th {\n",
       "        text-align: right;\n",
       "    }\n",
       "</style>\n",
       "<table border=\"1\" class=\"dataframe\">\n",
       "  <thead>\n",
       "    <tr style=\"text-align: right;\">\n",
       "      <th></th>\n",
       "      <th>antecedents</th>\n",
       "      <th>consequents</th>\n",
       "      <th>antecedent support</th>\n",
       "      <th>consequent support</th>\n",
       "      <th>support</th>\n",
       "      <th>confidence</th>\n",
       "      <th>lift</th>\n",
       "      <th>leverage</th>\n",
       "      <th>conviction</th>\n",
       "    </tr>\n",
       "  </thead>\n",
       "  <tbody>\n",
       "    <tr>\n",
       "      <th>2170</th>\n",
       "      <td>(tropical fruit, whole milk)</td>\n",
       "      <td>(root vegetables, yogurt)</td>\n",
       "      <td>0.042298</td>\n",
       "      <td>0.025826</td>\n",
       "      <td>0.005694</td>\n",
       "      <td>0.134615</td>\n",
       "      <td>5.212371</td>\n",
       "      <td>0.004602</td>\n",
       "      <td>1.125712</td>\n",
       "    </tr>\n",
       "    <tr>\n",
       "      <th>2378</th>\n",
       "      <td>(pip fruit, root vegetables)</td>\n",
       "      <td>(other vegetables, whole milk)</td>\n",
       "      <td>0.015557</td>\n",
       "      <td>0.074835</td>\n",
       "      <td>0.005491</td>\n",
       "      <td>0.352941</td>\n",
       "      <td>4.716272</td>\n",
       "      <td>0.004326</td>\n",
       "      <td>1.429801</td>\n",
       "    </tr>\n",
       "    <tr>\n",
       "      <th>2795</th>\n",
       "      <td>(ham)</td>\n",
       "      <td>(white bread)</td>\n",
       "      <td>0.026029</td>\n",
       "      <td>0.042095</td>\n",
       "      <td>0.005084</td>\n",
       "      <td>0.195312</td>\n",
       "      <td>4.639851</td>\n",
       "      <td>0.003988</td>\n",
       "      <td>1.190407</td>\n",
       "    </tr>\n",
       "    <tr>\n",
       "      <th>1358</th>\n",
       "      <td>(tropical fruit, root vegetables)</td>\n",
       "      <td>(other vegetables, whole milk)</td>\n",
       "      <td>0.021047</td>\n",
       "      <td>0.074835</td>\n",
       "      <td>0.007016</td>\n",
       "      <td>0.333333</td>\n",
       "      <td>4.454257</td>\n",
       "      <td>0.005441</td>\n",
       "      <td>1.387748</td>\n",
       "    </tr>\n",
       "    <tr>\n",
       "      <th>2740</th>\n",
       "      <td>(fruit/vegetable juice, whole milk)</td>\n",
       "      <td>(other vegetables, yogurt)</td>\n",
       "      <td>0.026640</td>\n",
       "      <td>0.043416</td>\n",
       "      <td>0.005084</td>\n",
       "      <td>0.190840</td>\n",
       "      <td>4.395570</td>\n",
       "      <td>0.003927</td>\n",
       "      <td>1.182193</td>\n",
       "    </tr>\n",
       "    <tr>\n",
       "      <th>2070</th>\n",
       "      <td>(citrus fruit, root vegetables)</td>\n",
       "      <td>(other vegetables, whole milk)</td>\n",
       "      <td>0.017692</td>\n",
       "      <td>0.074835</td>\n",
       "      <td>0.005796</td>\n",
       "      <td>0.327586</td>\n",
       "      <td>4.377460</td>\n",
       "      <td>0.004472</td>\n",
       "      <td>1.375887</td>\n",
       "    </tr>\n",
       "    <tr>\n",
       "      <th>1166</th>\n",
       "      <td>(tropical fruit, whole milk)</td>\n",
       "      <td>(other vegetables, yogurt)</td>\n",
       "      <td>0.042298</td>\n",
       "      <td>0.043416</td>\n",
       "      <td>0.007626</td>\n",
       "      <td>0.180288</td>\n",
       "      <td>4.152546</td>\n",
       "      <td>0.005789</td>\n",
       "      <td>1.166976</td>\n",
       "    </tr>\n",
       "    <tr>\n",
       "      <th>2674</th>\n",
       "      <td>(whipped/sour cream, root vegetables)</td>\n",
       "      <td>(other vegetables, whole milk)</td>\n",
       "      <td>0.017082</td>\n",
       "      <td>0.074835</td>\n",
       "      <td>0.005186</td>\n",
       "      <td>0.303571</td>\n",
       "      <td>4.056556</td>\n",
       "      <td>0.003907</td>\n",
       "      <td>1.328442</td>\n",
       "    </tr>\n",
       "    <tr>\n",
       "      <th>1091</th>\n",
       "      <td>(other vegetables, whole milk)</td>\n",
       "      <td>(root vegetables, yogurt)</td>\n",
       "      <td>0.074835</td>\n",
       "      <td>0.025826</td>\n",
       "      <td>0.007829</td>\n",
       "      <td>0.104620</td>\n",
       "      <td>4.050919</td>\n",
       "      <td>0.005896</td>\n",
       "      <td>1.088000</td>\n",
       "    </tr>\n",
       "    <tr>\n",
       "      <th>2063</th>\n",
       "      <td>(whipped/sour cream)</td>\n",
       "      <td>(butter, other vegetables)</td>\n",
       "      <td>0.071683</td>\n",
       "      <td>0.020031</td>\n",
       "      <td>0.005796</td>\n",
       "      <td>0.080851</td>\n",
       "      <td>4.036397</td>\n",
       "      <td>0.004360</td>\n",
       "      <td>1.066171</td>\n",
       "    </tr>\n",
       "  </tbody>\n",
       "</table>\n",
       "</div>"
      ],
      "text/plain": [
       "                                antecedents                     consequents  \\\n",
       "2170           (tropical fruit, whole milk)       (root vegetables, yogurt)   \n",
       "2378           (pip fruit, root vegetables)  (other vegetables, whole milk)   \n",
       "2795                                  (ham)                   (white bread)   \n",
       "1358      (tropical fruit, root vegetables)  (other vegetables, whole milk)   \n",
       "2740    (fruit/vegetable juice, whole milk)      (other vegetables, yogurt)   \n",
       "2070        (citrus fruit, root vegetables)  (other vegetables, whole milk)   \n",
       "1166           (tropical fruit, whole milk)      (other vegetables, yogurt)   \n",
       "2674  (whipped/sour cream, root vegetables)  (other vegetables, whole milk)   \n",
       "1091         (other vegetables, whole milk)       (root vegetables, yogurt)   \n",
       "2063                   (whipped/sour cream)      (butter, other vegetables)   \n",
       "\n",
       "      antecedent support  consequent support   support  confidence      lift  \\\n",
       "2170            0.042298            0.025826  0.005694    0.134615  5.212371   \n",
       "2378            0.015557            0.074835  0.005491    0.352941  4.716272   \n",
       "2795            0.026029            0.042095  0.005084    0.195312  4.639851   \n",
       "1358            0.021047            0.074835  0.007016    0.333333  4.454257   \n",
       "2740            0.026640            0.043416  0.005084    0.190840  4.395570   \n",
       "2070            0.017692            0.074835  0.005796    0.327586  4.377460   \n",
       "1166            0.042298            0.043416  0.007626    0.180288  4.152546   \n",
       "2674            0.017082            0.074835  0.005186    0.303571  4.056556   \n",
       "1091            0.074835            0.025826  0.007829    0.104620  4.050919   \n",
       "2063            0.071683            0.020031  0.005796    0.080851  4.036397   \n",
       "\n",
       "      leverage  conviction  \n",
       "2170  0.004602    1.125712  \n",
       "2378  0.004326    1.429801  \n",
       "2795  0.003988    1.190407  \n",
       "1358  0.005441    1.387748  \n",
       "2740  0.003927    1.182193  \n",
       "2070  0.004472    1.375887  \n",
       "1166  0.005789    1.166976  \n",
       "2674  0.003907    1.328442  \n",
       "1091  0.005896    1.088000  \n",
       "2063  0.004360    1.066171  "
      ]
     },
     "execution_count": 59,
     "metadata": {},
     "output_type": "execute_result"
    }
   ],
   "source": [
    "# Sorting them with respect to list and getting top 10 rules \n",
    "rules_no_redudancy.sort_values('lift',ascending=False).head(10)"
   ]
  },
  {
   "cell_type": "code",
   "execution_count": 62,
   "metadata": {},
   "outputs": [],
   "source": [
    "#Movies"
   ]
  },
  {
   "cell_type": "code",
   "execution_count": 63,
   "metadata": {},
   "outputs": [],
   "source": [
    "df=pd.read_csv('my_movies.csv')"
   ]
  },
  {
   "cell_type": "code",
   "execution_count": 64,
   "metadata": {},
   "outputs": [
    {
     "data": {
      "text/html": [
       "<div>\n",
       "<style scoped>\n",
       "    .dataframe tbody tr th:only-of-type {\n",
       "        vertical-align: middle;\n",
       "    }\n",
       "\n",
       "    .dataframe tbody tr th {\n",
       "        vertical-align: top;\n",
       "    }\n",
       "\n",
       "    .dataframe thead th {\n",
       "        text-align: right;\n",
       "    }\n",
       "</style>\n",
       "<table border=\"1\" class=\"dataframe\">\n",
       "  <thead>\n",
       "    <tr style=\"text-align: right;\">\n",
       "      <th></th>\n",
       "      <th>V1</th>\n",
       "      <th>V2</th>\n",
       "      <th>V3</th>\n",
       "      <th>V4</th>\n",
       "      <th>V5</th>\n",
       "      <th>Sixth Sense</th>\n",
       "      <th>Gladiator</th>\n",
       "      <th>LOTR1</th>\n",
       "      <th>Harry Potter1</th>\n",
       "      <th>Patriot</th>\n",
       "      <th>LOTR2</th>\n",
       "      <th>Harry Potter2</th>\n",
       "      <th>LOTR</th>\n",
       "      <th>Braveheart</th>\n",
       "      <th>Green Mile</th>\n",
       "    </tr>\n",
       "  </thead>\n",
       "  <tbody>\n",
       "    <tr>\n",
       "      <th>0</th>\n",
       "      <td>Sixth Sense</td>\n",
       "      <td>LOTR1</td>\n",
       "      <td>Harry Potter1</td>\n",
       "      <td>Green Mile</td>\n",
       "      <td>LOTR2</td>\n",
       "      <td>1</td>\n",
       "      <td>0</td>\n",
       "      <td>1</td>\n",
       "      <td>1</td>\n",
       "      <td>0</td>\n",
       "      <td>1</td>\n",
       "      <td>0</td>\n",
       "      <td>0</td>\n",
       "      <td>0</td>\n",
       "      <td>1</td>\n",
       "    </tr>\n",
       "    <tr>\n",
       "      <th>1</th>\n",
       "      <td>Gladiator</td>\n",
       "      <td>Patriot</td>\n",
       "      <td>Braveheart</td>\n",
       "      <td>NaN</td>\n",
       "      <td>NaN</td>\n",
       "      <td>0</td>\n",
       "      <td>1</td>\n",
       "      <td>0</td>\n",
       "      <td>0</td>\n",
       "      <td>1</td>\n",
       "      <td>0</td>\n",
       "      <td>0</td>\n",
       "      <td>0</td>\n",
       "      <td>1</td>\n",
       "      <td>0</td>\n",
       "    </tr>\n",
       "    <tr>\n",
       "      <th>2</th>\n",
       "      <td>LOTR1</td>\n",
       "      <td>LOTR2</td>\n",
       "      <td>NaN</td>\n",
       "      <td>NaN</td>\n",
       "      <td>NaN</td>\n",
       "      <td>0</td>\n",
       "      <td>0</td>\n",
       "      <td>1</td>\n",
       "      <td>0</td>\n",
       "      <td>0</td>\n",
       "      <td>1</td>\n",
       "      <td>0</td>\n",
       "      <td>0</td>\n",
       "      <td>0</td>\n",
       "      <td>0</td>\n",
       "    </tr>\n",
       "    <tr>\n",
       "      <th>3</th>\n",
       "      <td>Gladiator</td>\n",
       "      <td>Patriot</td>\n",
       "      <td>Sixth Sense</td>\n",
       "      <td>NaN</td>\n",
       "      <td>NaN</td>\n",
       "      <td>1</td>\n",
       "      <td>1</td>\n",
       "      <td>0</td>\n",
       "      <td>0</td>\n",
       "      <td>1</td>\n",
       "      <td>0</td>\n",
       "      <td>0</td>\n",
       "      <td>0</td>\n",
       "      <td>0</td>\n",
       "      <td>0</td>\n",
       "    </tr>\n",
       "    <tr>\n",
       "      <th>4</th>\n",
       "      <td>Gladiator</td>\n",
       "      <td>Patriot</td>\n",
       "      <td>Sixth Sense</td>\n",
       "      <td>NaN</td>\n",
       "      <td>NaN</td>\n",
       "      <td>1</td>\n",
       "      <td>1</td>\n",
       "      <td>0</td>\n",
       "      <td>0</td>\n",
       "      <td>1</td>\n",
       "      <td>0</td>\n",
       "      <td>0</td>\n",
       "      <td>0</td>\n",
       "      <td>0</td>\n",
       "      <td>0</td>\n",
       "    </tr>\n",
       "  </tbody>\n",
       "</table>\n",
       "</div>"
      ],
      "text/plain": [
       "            V1       V2             V3          V4     V5  Sixth Sense  \\\n",
       "0  Sixth Sense    LOTR1  Harry Potter1  Green Mile  LOTR2            1   \n",
       "1    Gladiator  Patriot     Braveheart         NaN    NaN            0   \n",
       "2        LOTR1    LOTR2            NaN         NaN    NaN            0   \n",
       "3    Gladiator  Patriot    Sixth Sense         NaN    NaN            1   \n",
       "4    Gladiator  Patriot    Sixth Sense         NaN    NaN            1   \n",
       "\n",
       "   Gladiator  LOTR1  Harry Potter1  Patriot  LOTR2  Harry Potter2  LOTR  \\\n",
       "0          0      1              1        0      1              0     0   \n",
       "1          1      0              0        1      0              0     0   \n",
       "2          0      1              0        0      1              0     0   \n",
       "3          1      0              0        1      0              0     0   \n",
       "4          1      0              0        1      0              0     0   \n",
       "\n",
       "   Braveheart  Green Mile  \n",
       "0           0           1  \n",
       "1           1           0  \n",
       "2           0           0  \n",
       "3           0           0  \n",
       "4           0           0  "
      ]
     },
     "execution_count": 64,
     "metadata": {},
     "output_type": "execute_result"
    }
   ],
   "source": [
    "df.head()"
   ]
  },
  {
   "cell_type": "code",
   "execution_count": 65,
   "metadata": {},
   "outputs": [
    {
     "data": {
      "text/plain": [
       "Index(['V1', 'V2', 'V3', 'V4', 'V5', 'Sixth Sense', 'Gladiator', 'LOTR1',\n",
       "       'Harry Potter1', 'Patriot', 'LOTR2', 'Harry Potter2', 'LOTR',\n",
       "       'Braveheart', 'Green Mile'],\n",
       "      dtype='object')"
      ]
     },
     "execution_count": 65,
     "metadata": {},
     "output_type": "execute_result"
    }
   ],
   "source": [
    "df.columns"
   ]
  },
  {
   "cell_type": "code",
   "execution_count": 66,
   "metadata": {},
   "outputs": [],
   "source": [
    "df1=df.iloc[:,5:]"
   ]
  },
  {
   "cell_type": "code",
   "execution_count": 67,
   "metadata": {},
   "outputs": [
    {
     "data": {
      "text/plain": [
       "Index(['Sixth Sense', 'Gladiator', 'LOTR1', 'Harry Potter1', 'Patriot',\n",
       "       'LOTR2', 'Harry Potter2', 'LOTR', 'Braveheart', 'Green Mile'],\n",
       "      dtype='object')"
      ]
     },
     "execution_count": 67,
     "metadata": {},
     "output_type": "execute_result"
    }
   ],
   "source": [
    "df1.columns"
   ]
  },
  {
   "cell_type": "code",
   "execution_count": 80,
   "metadata": {},
   "outputs": [],
   "source": [
    "frequent_itemsets = apriori(df1, min_support=0.005, max_len=3,use_colnames = True)"
   ]
  },
  {
   "cell_type": "code",
   "execution_count": 81,
   "metadata": {},
   "outputs": [],
   "source": [
    "# Most Frequent item sets based on support \n",
    "frequent_itemsets.sort_values('support',ascending = False,inplace=True)"
   ]
  },
  {
   "cell_type": "code",
   "execution_count": 82,
   "metadata": {},
   "outputs": [
    {
     "data": {
      "text/plain": [
       "Text(0, 0.5, 'support')"
      ]
     },
     "execution_count": 82,
     "metadata": {},
     "output_type": "execute_result"
    },
    {
     "data": {
      "image/png": "[encoded data removed]",
      "text/plain": [
       "<Figure size 432x288 with 1 Axes>"
      ]
     },
     "metadata": {
      "needs_background": "light"
     },
     "output_type": "display_data"
    }
   ],
   "source": [
    "plt.bar(x = list(range(1,7)),height = frequent_itemsets.support[1:7],color='rgmyk');plt.xticks(list(range(1,11)),frequent_itemsets.itemsets[1:11])\n",
    "plt.xlabel('item-sets');plt.ylabel('support')"
   ]
  },
  {
   "cell_type": "code",
   "execution_count": 83,
   "metadata": {},
   "outputs": [],
   "source": [
    "rules = association_rules(frequent_itemsets, metric=\"lift\", min_threshold=1)\n",
    "rules.head(20)\n",
    "rules.sort_values('lift',ascending = False,inplace=True)"
   ]
  },
  {
   "cell_type": "code",
   "execution_count": 84,
   "metadata": {},
   "outputs": [],
   "source": [
    "ma_X = rules.antecedents.apply(to_list)+rules.consequents.apply(to_list)\n",
    "\n",
    "\n",
    "ma_X = ma_X.apply(sorted)\n",
    "\n",
    "rules_sets = list(ma_X)"
   ]
  },
  {
   "cell_type": "code",
   "execution_count": 85,
   "metadata": {},
   "outputs": [],
   "source": [
    "unique_rules_sets = [list(m) for m in set(tuple(i) for i in rules_sets)]\n",
    "index_rules = []"
   ]
  },
  {
   "cell_type": "code",
   "execution_count": 86,
   "metadata": {},
   "outputs": [],
   "source": [
    "for i in unique_rules_sets:\n",
    "    index_rules.append(rules_sets.index(i))"
   ]
  },
  {
   "cell_type": "code",
   "execution_count": 87,
   "metadata": {},
   "outputs": [],
   "source": [
    "rules_no_redudancy  = rules.iloc[index_rules,:]"
   ]
  },
  {
   "cell_type": "code",
   "execution_count": 88,
   "metadata": {},
   "outputs": [
    {
     "data": {
      "text/html": [
       "<div>\n",
       "<style scoped>\n",
       "    .dataframe tbody tr th:only-of-type {\n",
       "        vertical-align: middle;\n",
       "    }\n",
       "\n",
       "    .dataframe tbody tr th {\n",
       "        vertical-align: top;\n",
       "    }\n",
       "\n",
       "    .dataframe thead th {\n",
       "        text-align: right;\n",
       "    }\n",
       "</style>\n",
       "<table border=\"1\" class=\"dataframe\">\n",
       "  <thead>\n",
       "    <tr style=\"text-align: right;\">\n",
       "      <th></th>\n",
       "      <th>antecedents</th>\n",
       "      <th>consequents</th>\n",
       "      <th>antecedent support</th>\n",
       "      <th>consequent support</th>\n",
       "      <th>support</th>\n",
       "      <th>confidence</th>\n",
       "      <th>lift</th>\n",
       "      <th>leverage</th>\n",
       "      <th>conviction</th>\n",
       "    </tr>\n",
       "  </thead>\n",
       "  <tbody>\n",
       "    <tr>\n",
       "      <th>81</th>\n",
       "      <td>(Gladiator, Green Mile)</td>\n",
       "      <td>(LOTR)</td>\n",
       "      <td>0.1</td>\n",
       "      <td>0.1</td>\n",
       "      <td>0.1</td>\n",
       "      <td>1.0</td>\n",
       "      <td>10.0</td>\n",
       "      <td>0.09</td>\n",
       "      <td>inf</td>\n",
       "    </tr>\n",
       "    <tr>\n",
       "      <th>91</th>\n",
       "      <td>(LOTR2)</td>\n",
       "      <td>(Green Mile, LOTR1)</td>\n",
       "      <td>0.2</td>\n",
       "      <td>0.1</td>\n",
       "      <td>0.1</td>\n",
       "      <td>0.5</td>\n",
       "      <td>5.0</td>\n",
       "      <td>0.08</td>\n",
       "      <td>1.8</td>\n",
       "    </tr>\n",
       "    <tr>\n",
       "      <th>115</th>\n",
       "      <td>(Harry Potter1)</td>\n",
       "      <td>(Harry Potter2)</td>\n",
       "      <td>0.2</td>\n",
       "      <td>0.1</td>\n",
       "      <td>0.1</td>\n",
       "      <td>0.5</td>\n",
       "      <td>5.0</td>\n",
       "      <td>0.08</td>\n",
       "      <td>1.8</td>\n",
       "    </tr>\n",
       "    <tr>\n",
       "      <th>53</th>\n",
       "      <td>(LOTR1)</td>\n",
       "      <td>(Green Mile, Harry Potter1)</td>\n",
       "      <td>0.2</td>\n",
       "      <td>0.1</td>\n",
       "      <td>0.1</td>\n",
       "      <td>0.5</td>\n",
       "      <td>5.0</td>\n",
       "      <td>0.08</td>\n",
       "      <td>1.8</td>\n",
       "    </tr>\n",
       "    <tr>\n",
       "      <th>20</th>\n",
       "      <td>(Harry Potter1)</td>\n",
       "      <td>(Sixth Sense, LOTR2)</td>\n",
       "      <td>0.2</td>\n",
       "      <td>0.1</td>\n",
       "      <td>0.1</td>\n",
       "      <td>0.5</td>\n",
       "      <td>5.0</td>\n",
       "      <td>0.08</td>\n",
       "      <td>1.8</td>\n",
       "    </tr>\n",
       "    <tr>\n",
       "      <th>72</th>\n",
       "      <td>(LOTR)</td>\n",
       "      <td>(Green Mile)</td>\n",
       "      <td>0.1</td>\n",
       "      <td>0.2</td>\n",
       "      <td>0.1</td>\n",
       "      <td>1.0</td>\n",
       "      <td>5.0</td>\n",
       "      <td>0.08</td>\n",
       "      <td>inf</td>\n",
       "    </tr>\n",
       "    <tr>\n",
       "      <th>69</th>\n",
       "      <td>(Green Mile)</td>\n",
       "      <td>(Sixth Sense, LOTR2)</td>\n",
       "      <td>0.2</td>\n",
       "      <td>0.1</td>\n",
       "      <td>0.1</td>\n",
       "      <td>0.5</td>\n",
       "      <td>5.0</td>\n",
       "      <td>0.08</td>\n",
       "      <td>1.8</td>\n",
       "    </tr>\n",
       "    <tr>\n",
       "      <th>96</th>\n",
       "      <td>(Green Mile)</td>\n",
       "      <td>(LOTR, Sixth Sense)</td>\n",
       "      <td>0.2</td>\n",
       "      <td>0.1</td>\n",
       "      <td>0.1</td>\n",
       "      <td>0.5</td>\n",
       "      <td>5.0</td>\n",
       "      <td>0.08</td>\n",
       "      <td>1.8</td>\n",
       "    </tr>\n",
       "    <tr>\n",
       "      <th>36</th>\n",
       "      <td>(Harry Potter1)</td>\n",
       "      <td>(LOTR1, Sixth Sense)</td>\n",
       "      <td>0.2</td>\n",
       "      <td>0.1</td>\n",
       "      <td>0.1</td>\n",
       "      <td>0.5</td>\n",
       "      <td>5.0</td>\n",
       "      <td>0.08</td>\n",
       "      <td>1.8</td>\n",
       "    </tr>\n",
       "    <tr>\n",
       "      <th>45</th>\n",
       "      <td>(Green Mile)</td>\n",
       "      <td>(LOTR1, Sixth Sense)</td>\n",
       "      <td>0.2</td>\n",
       "      <td>0.1</td>\n",
       "      <td>0.1</td>\n",
       "      <td>0.5</td>\n",
       "      <td>5.0</td>\n",
       "      <td>0.08</td>\n",
       "      <td>1.8</td>\n",
       "    </tr>\n",
       "  </tbody>\n",
       "</table>\n",
       "</div>"
      ],
      "text/plain": [
       "                 antecedents                  consequents  antecedent support  \\\n",
       "81   (Gladiator, Green Mile)                       (LOTR)                 0.1   \n",
       "91                   (LOTR2)          (Green Mile, LOTR1)                 0.2   \n",
       "115          (Harry Potter1)              (Harry Potter2)                 0.2   \n",
       "53                   (LOTR1)  (Green Mile, Harry Potter1)                 0.2   \n",
       "20           (Harry Potter1)         (Sixth Sense, LOTR2)                 0.2   \n",
       "72                    (LOTR)                 (Green Mile)                 0.1   \n",
       "69              (Green Mile)         (Sixth Sense, LOTR2)                 0.2   \n",
       "96              (Green Mile)          (LOTR, Sixth Sense)                 0.2   \n",
       "36           (Harry Potter1)         (LOTR1, Sixth Sense)                 0.2   \n",
       "45              (Green Mile)         (LOTR1, Sixth Sense)                 0.2   \n",
       "\n",
       "     consequent support  support  confidence  lift  leverage  conviction  \n",
       "81                  0.1      0.1         1.0  10.0      0.09         inf  \n",
       "91                  0.1      0.1         0.5   5.0      0.08         1.8  \n",
       "115                 0.1      0.1         0.5   5.0      0.08         1.8  \n",
       "53                  0.1      0.1         0.5   5.0      0.08         1.8  \n",
       "20                  0.1      0.1         0.5   5.0      0.08         1.8  \n",
       "72                  0.2      0.1         1.0   5.0      0.08         inf  \n",
       "69                  0.1      0.1         0.5   5.0      0.08         1.8  \n",
       "96                  0.1      0.1         0.5   5.0      0.08         1.8  \n",
       "36                  0.1      0.1         0.5   5.0      0.08         1.8  \n",
       "45                  0.1      0.1         0.5   5.0      0.08         1.8  "
      ]
     },
     "execution_count": 88,
     "metadata": {},
     "output_type": "execute_result"
    }
   ],
   "source": [
    "rules_no_redudancy.sort_values('lift',ascending=False).head(10)"
   ]
  },
  {
   "cell_type": "code",
   "execution_count": 89,
   "metadata": {},
   "outputs": [],
   "source": [
    "#Books"
   ]
  },
  {
   "cell_type": "code",
   "execution_count": 90,
   "metadata": {},
   "outputs": [],
   "source": [
    "df=pd.read_csv('book.csv')"
   ]
  },
  {
   "cell_type": "code",
   "execution_count": 91,
   "metadata": {},
   "outputs": [
    {
     "data": {
      "text/html": [
       "<div>\n",
       "<style scoped>\n",
       "    .dataframe tbody tr th:only-of-type {\n",
       "        vertical-align: middle;\n",
       "    }\n",
       "\n",
       "    .dataframe tbody tr th {\n",
       "        vertical-align: top;\n",
       "    }\n",
       "\n",
       "    .dataframe thead th {\n",
       "        text-align: right;\n",
       "    }\n",
       "</style>\n",
       "<table border=\"1\" class=\"dataframe\">\n",
       "  <thead>\n",
       "    <tr style=\"text-align: right;\">\n",
       "      <th></th>\n",
       "      <th>ChildBks</th>\n",
       "      <th>YouthBks</th>\n",
       "      <th>CookBks</th>\n",
       "      <th>DoItYBks</th>\n",
       "      <th>RefBks</th>\n",
       "      <th>ArtBks</th>\n",
       "      <th>GeogBks</th>\n",
       "      <th>ItalCook</th>\n",
       "      <th>ItalAtlas</th>\n",
       "      <th>ItalArt</th>\n",
       "      <th>Florence</th>\n",
       "    </tr>\n",
       "  </thead>\n",
       "  <tbody>\n",
       "    <tr>\n",
       "      <th>0</th>\n",
       "      <td>0</td>\n",
       "      <td>1</td>\n",
       "      <td>0</td>\n",
       "      <td>1</td>\n",
       "      <td>0</td>\n",
       "      <td>0</td>\n",
       "      <td>1</td>\n",
       "      <td>0</td>\n",
       "      <td>0</td>\n",
       "      <td>0</td>\n",
       "      <td>0</td>\n",
       "    </tr>\n",
       "    <tr>\n",
       "      <th>1</th>\n",
       "      <td>1</td>\n",
       "      <td>0</td>\n",
       "      <td>0</td>\n",
       "      <td>0</td>\n",
       "      <td>0</td>\n",
       "      <td>0</td>\n",
       "      <td>0</td>\n",
       "      <td>0</td>\n",
       "      <td>0</td>\n",
       "      <td>0</td>\n",
       "      <td>0</td>\n",
       "    </tr>\n",
       "    <tr>\n",
       "      <th>2</th>\n",
       "      <td>0</td>\n",
       "      <td>0</td>\n",
       "      <td>0</td>\n",
       "      <td>0</td>\n",
       "      <td>0</td>\n",
       "      <td>0</td>\n",
       "      <td>0</td>\n",
       "      <td>0</td>\n",
       "      <td>0</td>\n",
       "      <td>0</td>\n",
       "      <td>0</td>\n",
       "    </tr>\n",
       "    <tr>\n",
       "      <th>3</th>\n",
       "      <td>1</td>\n",
       "      <td>1</td>\n",
       "      <td>1</td>\n",
       "      <td>0</td>\n",
       "      <td>1</td>\n",
       "      <td>0</td>\n",
       "      <td>1</td>\n",
       "      <td>0</td>\n",
       "      <td>0</td>\n",
       "      <td>0</td>\n",
       "      <td>0</td>\n",
       "    </tr>\n",
       "    <tr>\n",
       "      <th>4</th>\n",
       "      <td>0</td>\n",
       "      <td>0</td>\n",
       "      <td>1</td>\n",
       "      <td>0</td>\n",
       "      <td>0</td>\n",
       "      <td>0</td>\n",
       "      <td>1</td>\n",
       "      <td>0</td>\n",
       "      <td>0</td>\n",
       "      <td>0</td>\n",
       "      <td>0</td>\n",
       "    </tr>\n",
       "  </tbody>\n",
       "</table>\n",
       "</div>"
      ],
      "text/plain": [
       "   ChildBks  YouthBks  CookBks  DoItYBks  RefBks  ArtBks  GeogBks  ItalCook  \\\n",
       "0         0         1        0         1       0       0        1         0   \n",
       "1         1         0        0         0       0       0        0         0   \n",
       "2         0         0        0         0       0       0        0         0   \n",
       "3         1         1        1         0       1       0        1         0   \n",
       "4         0         0        1         0       0       0        1         0   \n",
       "\n",
       "   ItalAtlas  ItalArt  Florence  \n",
       "0          0        0         0  \n",
       "1          0        0         0  \n",
       "2          0        0         0  \n",
       "3          0        0         0  \n",
       "4          0        0         0  "
      ]
     },
     "execution_count": 91,
     "metadata": {},
     "output_type": "execute_result"
    }
   ],
   "source": [
    "df.head()"
   ]
  },
  {
   "cell_type": "code",
   "execution_count": 92,
   "metadata": {},
   "outputs": [],
   "source": [
    "frequent_itemsets = apriori(df, min_support=0.005, max_len=3,use_colnames = True)"
   ]
  },
  {
   "cell_type": "code",
   "execution_count": 93,
   "metadata": {},
   "outputs": [],
   "source": [
    "# Most Frequent item sets based on support \n",
    "frequent_itemsets.sort_values('support',ascending = False,inplace=True)"
   ]
  },
  {
   "cell_type": "code",
   "execution_count": 94,
   "metadata": {},
   "outputs": [
    {
     "data": {
      "text/plain": [
       "Text(0, 0.5, 'support')"
      ]
     },
     "execution_count": 94,
     "metadata": {},
     "output_type": "execute_result"
    },
    {
     "data": {
      "image/png": "[encoded data removed]",
      "text/plain": [
       "<Figure size 432x288 with 1 Axes>"
      ]
     },
     "metadata": {
      "needs_background": "light"
     },
     "output_type": "display_data"
    }
   ],
   "source": [
    "plt.bar(x = list(range(1,7)),height = frequent_itemsets.support[1:7],color='rgmyk');plt.xticks(list(range(1,11)),frequent_itemsets.itemsets[1:11])\n",
    "plt.xlabel('item-sets');plt.ylabel('support')"
   ]
  },
  {
   "cell_type": "code",
   "execution_count": 95,
   "metadata": {},
   "outputs": [],
   "source": [
    "rules = association_rules(frequent_itemsets, metric=\"lift\", min_threshold=1)\n",
    "rules.head(20)\n",
    "rules.sort_values('lift',ascending = False,inplace=True)"
   ]
  },
  {
   "cell_type": "code",
   "execution_count": 96,
   "metadata": {},
   "outputs": [],
   "source": [
    "ma_X = rules.antecedents.apply(to_list)+rules.consequents.apply(to_list)\n",
    "\n",
    "\n",
    "ma_X = ma_X.apply(sorted)\n",
    "\n",
    "rules_sets = list(ma_X)"
   ]
  },
  {
   "cell_type": "code",
   "execution_count": 97,
   "metadata": {},
   "outputs": [],
   "source": [
    "unique_rules_sets = [list(m) for m in set(tuple(i) for i in rules_sets)]\n",
    "index_rules = []"
   ]
  },
  {
   "cell_type": "code",
   "execution_count": 98,
   "metadata": {},
   "outputs": [],
   "source": [
    "for i in unique_rules_sets:\n",
    "    index_rules.append(rules_sets.index(i))"
   ]
  },
  {
   "cell_type": "code",
   "execution_count": 99,
   "metadata": {},
   "outputs": [],
   "source": [
    "rules_no_redudancy  = rules.iloc[index_rules,:]"
   ]
  },
  {
   "cell_type": "code",
   "execution_count": 100,
   "metadata": {},
   "outputs": [
    {
     "data": {
      "text/html": [
       "<div>\n",
       "<style scoped>\n",
       "    .dataframe tbody tr th:only-of-type {\n",
       "        vertical-align: middle;\n",
       "    }\n",
       "\n",
       "    .dataframe tbody tr th {\n",
       "        vertical-align: top;\n",
       "    }\n",
       "\n",
       "    .dataframe thead th {\n",
       "        text-align: right;\n",
       "    }\n",
       "</style>\n",
       "<table border=\"1\" class=\"dataframe\">\n",
       "  <thead>\n",
       "    <tr style=\"text-align: right;\">\n",
       "      <th></th>\n",
       "      <th>antecedents</th>\n",
       "      <th>consequents</th>\n",
       "      <th>antecedent support</th>\n",
       "      <th>consequent support</th>\n",
       "      <th>support</th>\n",
       "      <th>confidence</th>\n",
       "      <th>lift</th>\n",
       "      <th>leverage</th>\n",
       "      <th>conviction</th>\n",
       "    </tr>\n",
       "  </thead>\n",
       "  <tbody>\n",
       "    <tr>\n",
       "      <th>750</th>\n",
       "      <td>(RefBks, ItalArt)</td>\n",
       "      <td>(ItalAtlas)</td>\n",
       "      <td>0.0200</td>\n",
       "      <td>0.0370</td>\n",
       "      <td>0.0165</td>\n",
       "      <td>0.825000</td>\n",
       "      <td>22.297297</td>\n",
       "      <td>0.015760</td>\n",
       "      <td>5.502857</td>\n",
       "    </tr>\n",
       "    <tr>\n",
       "      <th>742</th>\n",
       "      <td>(ArtBks, ItalAtlas)</td>\n",
       "      <td>(ItalArt)</td>\n",
       "      <td>0.0180</td>\n",
       "      <td>0.0485</td>\n",
       "      <td>0.0165</td>\n",
       "      <td>0.916667</td>\n",
       "      <td>18.900344</td>\n",
       "      <td>0.015627</td>\n",
       "      <td>11.418000</td>\n",
       "    </tr>\n",
       "    <tr>\n",
       "      <th>350</th>\n",
       "      <td>(ArtBks, ItalCook)</td>\n",
       "      <td>(ItalArt)</td>\n",
       "      <td>0.0565</td>\n",
       "      <td>0.0485</td>\n",
       "      <td>0.0375</td>\n",
       "      <td>0.663717</td>\n",
       "      <td>13.684883</td>\n",
       "      <td>0.034760</td>\n",
       "      <td>2.829461</td>\n",
       "    </tr>\n",
       "    <tr>\n",
       "      <th>561</th>\n",
       "      <td>(ItalCook, RefBks)</td>\n",
       "      <td>(ItalAtlas)</td>\n",
       "      <td>0.0465</td>\n",
       "      <td>0.0370</td>\n",
       "      <td>0.0230</td>\n",
       "      <td>0.494624</td>\n",
       "      <td>13.368207</td>\n",
       "      <td>0.021279</td>\n",
       "      <td>1.905511</td>\n",
       "    </tr>\n",
       "    <tr>\n",
       "      <th>921</th>\n",
       "      <td>(ItalAtlas, GeogBks)</td>\n",
       "      <td>(ItalArt)</td>\n",
       "      <td>0.0205</td>\n",
       "      <td>0.0485</td>\n",
       "      <td>0.0115</td>\n",
       "      <td>0.560976</td>\n",
       "      <td>11.566507</td>\n",
       "      <td>0.010506</td>\n",
       "      <td>2.167306</td>\n",
       "    </tr>\n",
       "    <tr>\n",
       "      <th>896</th>\n",
       "      <td>(ItalCook, ItalAtlas)</td>\n",
       "      <td>(ItalArt)</td>\n",
       "      <td>0.0230</td>\n",
       "      <td>0.0485</td>\n",
       "      <td>0.0125</td>\n",
       "      <td>0.543478</td>\n",
       "      <td>11.205737</td>\n",
       "      <td>0.011385</td>\n",
       "      <td>2.084238</td>\n",
       "    </tr>\n",
       "    <tr>\n",
       "      <th>966</th>\n",
       "      <td>(ItalArt)</td>\n",
       "      <td>(ItalCook, Florence)</td>\n",
       "      <td>0.0485</td>\n",
       "      <td>0.0175</td>\n",
       "      <td>0.0095</td>\n",
       "      <td>0.195876</td>\n",
       "      <td>11.192931</td>\n",
       "      <td>0.008651</td>\n",
       "      <td>1.221827</td>\n",
       "    </tr>\n",
       "    <tr>\n",
       "      <th>812</th>\n",
       "      <td>(ItalArt, ChildBks)</td>\n",
       "      <td>(ItalAtlas)</td>\n",
       "      <td>0.0360</td>\n",
       "      <td>0.0370</td>\n",
       "      <td>0.0145</td>\n",
       "      <td>0.402778</td>\n",
       "      <td>10.885886</td>\n",
       "      <td>0.013168</td>\n",
       "      <td>1.612465</td>\n",
       "    </tr>\n",
       "    <tr>\n",
       "      <th>973</th>\n",
       "      <td>(ItalArt)</td>\n",
       "      <td>(ItalAtlas, DoItYBks)</td>\n",
       "      <td>0.0485</td>\n",
       "      <td>0.0190</td>\n",
       "      <td>0.0095</td>\n",
       "      <td>0.195876</td>\n",
       "      <td>10.309278</td>\n",
       "      <td>0.008578</td>\n",
       "      <td>1.219962</td>\n",
       "    </tr>\n",
       "    <tr>\n",
       "      <th>1009</th>\n",
       "      <td>(ItalArt)</td>\n",
       "      <td>(ItalAtlas, YouthBks)</td>\n",
       "      <td>0.0485</td>\n",
       "      <td>0.0175</td>\n",
       "      <td>0.0085</td>\n",
       "      <td>0.175258</td>\n",
       "      <td>10.014728</td>\n",
       "      <td>0.007651</td>\n",
       "      <td>1.191281</td>\n",
       "    </tr>\n",
       "  </tbody>\n",
       "</table>\n",
       "</div>"
      ],
      "text/plain": [
       "                antecedents            consequents  antecedent support  \\\n",
       "750       (RefBks, ItalArt)            (ItalAtlas)              0.0200   \n",
       "742     (ArtBks, ItalAtlas)              (ItalArt)              0.0180   \n",
       "350      (ArtBks, ItalCook)              (ItalArt)              0.0565   \n",
       "561      (ItalCook, RefBks)            (ItalAtlas)              0.0465   \n",
       "921    (ItalAtlas, GeogBks)              (ItalArt)              0.0205   \n",
       "896   (ItalCook, ItalAtlas)              (ItalArt)              0.0230   \n",
       "966               (ItalArt)   (ItalCook, Florence)              0.0485   \n",
       "812     (ItalArt, ChildBks)            (ItalAtlas)              0.0360   \n",
       "973               (ItalArt)  (ItalAtlas, DoItYBks)              0.0485   \n",
       "1009              (ItalArt)  (ItalAtlas, YouthBks)              0.0485   \n",
       "\n",
       "      consequent support  support  confidence       lift  leverage  conviction  \n",
       "750               0.0370   0.0165    0.825000  22.297297  0.015760    5.502857  \n",
       "742               0.0485   0.0165    0.916667  18.900344  0.015627   11.418000  \n",
       "350               0.0485   0.0375    0.663717  13.684883  0.034760    2.829461  \n",
       "561               0.0370   0.0230    0.494624  13.368207  0.021279    1.905511  \n",
       "921               0.0485   0.0115    0.560976  11.566507  0.010506    2.167306  \n",
       "896               0.0485   0.0125    0.543478  11.205737  0.011385    2.084238  \n",
       "966               0.0175   0.0095    0.195876  11.192931  0.008651    1.221827  \n",
       "812               0.0370   0.0145    0.402778  10.885886  0.013168    1.612465  \n",
       "973               0.0190   0.0095    0.195876  10.309278  0.008578    1.219962  \n",
       "1009              0.0175   0.0085    0.175258  10.014728  0.007651    1.191281  "
      ]
     },
     "execution_count": 100,
     "metadata": {},
     "output_type": "execute_result"
    }
   ],
   "source": [
    "rules_no_redudancy.sort_values('lift',ascending=False).head(10)"
   ]
  }
 ],
 "metadata": {
  "kernelspec": {
   "display_name": "Python 3",
   "language": "python",
   "name": "python3"
  },
  "language_info": {
   "codemirror_mode": {
    "name": "ipython",
    "version": 3
   },
   "file_extension": ".py",
   "mimetype": "text/x-python",
   "name": "python",
   "nbconvert_exporter": "python",
   "pygments_lexer": "ipython3",
   "version": "3.6.5"
  }
 },
 "nbformat": 4,
 "nbformat_minor": 2
}
