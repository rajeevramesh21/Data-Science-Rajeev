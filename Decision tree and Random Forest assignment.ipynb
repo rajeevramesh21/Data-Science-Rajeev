{
 "cells": [
  {
   "cell_type": "code",
   "execution_count": 303,
   "metadata": {},
   "outputs": [],
   "source": [
    "import numpy as np\n",
    "import pandas as pd"
   ]
  },
  {
   "cell_type": "code",
   "execution_count": 304,
   "metadata": {},
   "outputs": [],
   "source": [
    "import matplotlib.pyplot as plt\n",
    "import sklearn"
   ]
  },
  {
   "cell_type": "code",
   "execution_count": 305,
   "metadata": {},
   "outputs": [],
   "source": [
    "df=pd.read_csv('Fraud_check.csv')"
   ]
  },
  {
   "cell_type": "code",
   "execution_count": 306,
   "metadata": {},
   "outputs": [
    {
     "data": {
      "text/plain": [
       "(600, 6)"
      ]
     },
     "execution_count": 306,
     "metadata": {},
     "output_type": "execute_result"
    }
   ],
   "source": [
    "df.shape"
   ]
  },
  {
   "cell_type": "code",
   "execution_count": 307,
   "metadata": {},
   "outputs": [
    {
     "data": {
      "text/html": [
       "<div>\n",
       "<style scoped>\n",
       "    .dataframe tbody tr th:only-of-type {\n",
       "        vertical-align: middle;\n",
       "    }\n",
       "\n",
       "    .dataframe tbody tr th {\n",
       "        vertical-align: top;\n",
       "    }\n",
       "\n",
       "    .dataframe thead th {\n",
       "        text-align: right;\n",
       "    }\n",
       "</style>\n",
       "<table border=\"1\" class=\"dataframe\">\n",
       "  <thead>\n",
       "    <tr style=\"text-align: right;\">\n",
       "      <th></th>\n",
       "      <th>Undergrad</th>\n",
       "      <th>Marital.Status</th>\n",
       "      <th>Taxable.Income</th>\n",
       "      <th>City.Population</th>\n",
       "      <th>Work.Experience</th>\n",
       "      <th>Urban</th>\n",
       "    </tr>\n",
       "  </thead>\n",
       "  <tbody>\n",
       "    <tr>\n",
       "      <th>0</th>\n",
       "      <td>NO</td>\n",
       "      <td>Single</td>\n",
       "      <td>68833</td>\n",
       "      <td>50047</td>\n",
       "      <td>10</td>\n",
       "      <td>YES</td>\n",
       "    </tr>\n",
       "    <tr>\n",
       "      <th>1</th>\n",
       "      <td>YES</td>\n",
       "      <td>Divorced</td>\n",
       "      <td>33700</td>\n",
       "      <td>134075</td>\n",
       "      <td>18</td>\n",
       "      <td>YES</td>\n",
       "    </tr>\n",
       "    <tr>\n",
       "      <th>2</th>\n",
       "      <td>NO</td>\n",
       "      <td>Married</td>\n",
       "      <td>36925</td>\n",
       "      <td>160205</td>\n",
       "      <td>30</td>\n",
       "      <td>YES</td>\n",
       "    </tr>\n",
       "    <tr>\n",
       "      <th>3</th>\n",
       "      <td>YES</td>\n",
       "      <td>Single</td>\n",
       "      <td>50190</td>\n",
       "      <td>193264</td>\n",
       "      <td>15</td>\n",
       "      <td>YES</td>\n",
       "    </tr>\n",
       "    <tr>\n",
       "      <th>4</th>\n",
       "      <td>NO</td>\n",
       "      <td>Married</td>\n",
       "      <td>81002</td>\n",
       "      <td>27533</td>\n",
       "      <td>28</td>\n",
       "      <td>NO</td>\n",
       "    </tr>\n",
       "  </tbody>\n",
       "</table>\n",
       "</div>"
      ],
      "text/plain": [
       "  Undergrad Marital.Status  Taxable.Income  City.Population  Work.Experience  \\\n",
       "0        NO         Single           68833            50047               10   \n",
       "1       YES       Divorced           33700           134075               18   \n",
       "2        NO        Married           36925           160205               30   \n",
       "3       YES         Single           50190           193264               15   \n",
       "4        NO        Married           81002            27533               28   \n",
       "\n",
       "  Urban  \n",
       "0   YES  \n",
       "1   YES  \n",
       "2   YES  \n",
       "3   YES  \n",
       "4    NO  "
      ]
     },
     "execution_count": 307,
     "metadata": {},
     "output_type": "execute_result"
    }
   ],
   "source": [
    "df.head()"
   ]
  },
  {
   "cell_type": "code",
   "execution_count": 308,
   "metadata": {},
   "outputs": [
    {
     "data": {
      "text/plain": [
       "Index(['Undergrad', 'Marital.Status', 'Taxable.Income', 'City.Population',\n",
       "       'Work.Experience', 'Urban'],\n",
       "      dtype='object')"
      ]
     },
     "execution_count": 308,
     "metadata": {},
     "output_type": "execute_result"
    }
   ],
   "source": [
    "df.columns"
   ]
  },
  {
   "cell_type": "code",
   "execution_count": 309,
   "metadata": {},
   "outputs": [
    {
     "data": {
      "text/html": [
       "<div>\n",
       "<style scoped>\n",
       "    .dataframe tbody tr th:only-of-type {\n",
       "        vertical-align: middle;\n",
       "    }\n",
       "\n",
       "    .dataframe tbody tr th {\n",
       "        vertical-align: top;\n",
       "    }\n",
       "\n",
       "    .dataframe thead th {\n",
       "        text-align: right;\n",
       "    }\n",
       "</style>\n",
       "<table border=\"1\" class=\"dataframe\">\n",
       "  <thead>\n",
       "    <tr style=\"text-align: right;\">\n",
       "      <th></th>\n",
       "      <th>Taxable.Income</th>\n",
       "      <th>City.Population</th>\n",
       "      <th>Work.Experience</th>\n",
       "    </tr>\n",
       "  </thead>\n",
       "  <tbody>\n",
       "    <tr>\n",
       "      <th>count</th>\n",
       "      <td>600.000000</td>\n",
       "      <td>600.000000</td>\n",
       "      <td>600.000000</td>\n",
       "    </tr>\n",
       "    <tr>\n",
       "      <th>mean</th>\n",
       "      <td>55208.375000</td>\n",
       "      <td>108747.368333</td>\n",
       "      <td>15.558333</td>\n",
       "    </tr>\n",
       "    <tr>\n",
       "      <th>std</th>\n",
       "      <td>26204.827597</td>\n",
       "      <td>49850.075134</td>\n",
       "      <td>8.842147</td>\n",
       "    </tr>\n",
       "    <tr>\n",
       "      <th>min</th>\n",
       "      <td>10003.000000</td>\n",
       "      <td>25779.000000</td>\n",
       "      <td>0.000000</td>\n",
       "    </tr>\n",
       "    <tr>\n",
       "      <th>25%</th>\n",
       "      <td>32871.500000</td>\n",
       "      <td>66966.750000</td>\n",
       "      <td>8.000000</td>\n",
       "    </tr>\n",
       "    <tr>\n",
       "      <th>50%</th>\n",
       "      <td>55074.500000</td>\n",
       "      <td>106493.500000</td>\n",
       "      <td>15.000000</td>\n",
       "    </tr>\n",
       "    <tr>\n",
       "      <th>75%</th>\n",
       "      <td>78611.750000</td>\n",
       "      <td>150114.250000</td>\n",
       "      <td>24.000000</td>\n",
       "    </tr>\n",
       "    <tr>\n",
       "      <th>max</th>\n",
       "      <td>99619.000000</td>\n",
       "      <td>199778.000000</td>\n",
       "      <td>30.000000</td>\n",
       "    </tr>\n",
       "  </tbody>\n",
       "</table>\n",
       "</div>"
      ],
      "text/plain": [
       "       Taxable.Income  City.Population  Work.Experience\n",
       "count      600.000000       600.000000       600.000000\n",
       "mean     55208.375000    108747.368333        15.558333\n",
       "std      26204.827597     49850.075134         8.842147\n",
       "min      10003.000000     25779.000000         0.000000\n",
       "25%      32871.500000     66966.750000         8.000000\n",
       "50%      55074.500000    106493.500000        15.000000\n",
       "75%      78611.750000    150114.250000        24.000000\n",
       "max      99619.000000    199778.000000        30.000000"
      ]
     },
     "execution_count": 309,
     "metadata": {},
     "output_type": "execute_result"
    }
   ],
   "source": [
    "df.describe()"
   ]
  },
  {
   "cell_type": "code",
   "execution_count": 310,
   "metadata": {},
   "outputs": [
    {
     "data": {
      "text/plain": [
       "YES    302\n",
       "NO     298\n",
       "Name: Urban, dtype: int64"
      ]
     },
     "execution_count": 310,
     "metadata": {},
     "output_type": "execute_result"
    }
   ],
   "source": [
    "df['Urban'].value_counts()"
   ]
  },
  {
   "cell_type": "code",
   "execution_count": 311,
   "metadata": {},
   "outputs": [
    {
     "data": {
      "text/html": [
       "<div>\n",
       "<style scoped>\n",
       "    .dataframe tbody tr th:only-of-type {\n",
       "        vertical-align: middle;\n",
       "    }\n",
       "\n",
       "    .dataframe tbody tr th {\n",
       "        vertical-align: top;\n",
       "    }\n",
       "\n",
       "    .dataframe thead th {\n",
       "        text-align: right;\n",
       "    }\n",
       "</style>\n",
       "<table border=\"1\" class=\"dataframe\">\n",
       "  <thead>\n",
       "    <tr style=\"text-align: right;\">\n",
       "      <th></th>\n",
       "      <th>Undergrad</th>\n",
       "      <th>Marital.Status</th>\n",
       "      <th>Taxable.Income</th>\n",
       "      <th>City.Population</th>\n",
       "      <th>Work.Experience</th>\n",
       "      <th>Urban</th>\n",
       "    </tr>\n",
       "  </thead>\n",
       "  <tbody>\n",
       "    <tr>\n",
       "      <th>0</th>\n",
       "      <td>NO</td>\n",
       "      <td>Single</td>\n",
       "      <td>68833</td>\n",
       "      <td>50047</td>\n",
       "      <td>10</td>\n",
       "      <td>YES</td>\n",
       "    </tr>\n",
       "    <tr>\n",
       "      <th>1</th>\n",
       "      <td>YES</td>\n",
       "      <td>Divorced</td>\n",
       "      <td>33700</td>\n",
       "      <td>134075</td>\n",
       "      <td>18</td>\n",
       "      <td>YES</td>\n",
       "    </tr>\n",
       "    <tr>\n",
       "      <th>2</th>\n",
       "      <td>NO</td>\n",
       "      <td>Married</td>\n",
       "      <td>36925</td>\n",
       "      <td>160205</td>\n",
       "      <td>30</td>\n",
       "      <td>YES</td>\n",
       "    </tr>\n",
       "    <tr>\n",
       "      <th>3</th>\n",
       "      <td>YES</td>\n",
       "      <td>Single</td>\n",
       "      <td>50190</td>\n",
       "      <td>193264</td>\n",
       "      <td>15</td>\n",
       "      <td>YES</td>\n",
       "    </tr>\n",
       "    <tr>\n",
       "      <th>4</th>\n",
       "      <td>NO</td>\n",
       "      <td>Married</td>\n",
       "      <td>81002</td>\n",
       "      <td>27533</td>\n",
       "      <td>28</td>\n",
       "      <td>NO</td>\n",
       "    </tr>\n",
       "    <tr>\n",
       "      <th>5</th>\n",
       "      <td>NO</td>\n",
       "      <td>Divorced</td>\n",
       "      <td>33329</td>\n",
       "      <td>116382</td>\n",
       "      <td>0</td>\n",
       "      <td>NO</td>\n",
       "    </tr>\n",
       "    <tr>\n",
       "      <th>6</th>\n",
       "      <td>NO</td>\n",
       "      <td>Divorced</td>\n",
       "      <td>83357</td>\n",
       "      <td>80890</td>\n",
       "      <td>8</td>\n",
       "      <td>YES</td>\n",
       "    </tr>\n",
       "    <tr>\n",
       "      <th>7</th>\n",
       "      <td>YES</td>\n",
       "      <td>Single</td>\n",
       "      <td>62774</td>\n",
       "      <td>131253</td>\n",
       "      <td>3</td>\n",
       "      <td>YES</td>\n",
       "    </tr>\n",
       "    <tr>\n",
       "      <th>8</th>\n",
       "      <td>NO</td>\n",
       "      <td>Single</td>\n",
       "      <td>83519</td>\n",
       "      <td>102481</td>\n",
       "      <td>12</td>\n",
       "      <td>YES</td>\n",
       "    </tr>\n",
       "    <tr>\n",
       "      <th>9</th>\n",
       "      <td>YES</td>\n",
       "      <td>Divorced</td>\n",
       "      <td>98152</td>\n",
       "      <td>155482</td>\n",
       "      <td>4</td>\n",
       "      <td>YES</td>\n",
       "    </tr>\n",
       "    <tr>\n",
       "      <th>10</th>\n",
       "      <td>NO</td>\n",
       "      <td>Single</td>\n",
       "      <td>29732</td>\n",
       "      <td>102602</td>\n",
       "      <td>19</td>\n",
       "      <td>YES</td>\n",
       "    </tr>\n",
       "    <tr>\n",
       "      <th>11</th>\n",
       "      <td>NO</td>\n",
       "      <td>Single</td>\n",
       "      <td>61063</td>\n",
       "      <td>94875</td>\n",
       "      <td>6</td>\n",
       "      <td>YES</td>\n",
       "    </tr>\n",
       "    <tr>\n",
       "      <th>12</th>\n",
       "      <td>NO</td>\n",
       "      <td>Divorced</td>\n",
       "      <td>11794</td>\n",
       "      <td>148033</td>\n",
       "      <td>14</td>\n",
       "      <td>YES</td>\n",
       "    </tr>\n",
       "    <tr>\n",
       "      <th>13</th>\n",
       "      <td>NO</td>\n",
       "      <td>Married</td>\n",
       "      <td>61830</td>\n",
       "      <td>86649</td>\n",
       "      <td>16</td>\n",
       "      <td>YES</td>\n",
       "    </tr>\n",
       "    <tr>\n",
       "      <th>14</th>\n",
       "      <td>NO</td>\n",
       "      <td>Married</td>\n",
       "      <td>64070</td>\n",
       "      <td>57529</td>\n",
       "      <td>13</td>\n",
       "      <td>YES</td>\n",
       "    </tr>\n",
       "    <tr>\n",
       "      <th>15</th>\n",
       "      <td>NO</td>\n",
       "      <td>Divorced</td>\n",
       "      <td>69869</td>\n",
       "      <td>107764</td>\n",
       "      <td>29</td>\n",
       "      <td>NO</td>\n",
       "    </tr>\n",
       "    <tr>\n",
       "      <th>16</th>\n",
       "      <td>YES</td>\n",
       "      <td>Divorced</td>\n",
       "      <td>24987</td>\n",
       "      <td>34551</td>\n",
       "      <td>29</td>\n",
       "      <td>NO</td>\n",
       "    </tr>\n",
       "    <tr>\n",
       "      <th>17</th>\n",
       "      <td>YES</td>\n",
       "      <td>Married</td>\n",
       "      <td>39476</td>\n",
       "      <td>57194</td>\n",
       "      <td>25</td>\n",
       "      <td>NO</td>\n",
       "    </tr>\n",
       "    <tr>\n",
       "      <th>18</th>\n",
       "      <td>YES</td>\n",
       "      <td>Divorced</td>\n",
       "      <td>97957</td>\n",
       "      <td>59269</td>\n",
       "      <td>6</td>\n",
       "      <td>NO</td>\n",
       "    </tr>\n",
       "    <tr>\n",
       "      <th>19</th>\n",
       "      <td>NO</td>\n",
       "      <td>Single</td>\n",
       "      <td>10987</td>\n",
       "      <td>126953</td>\n",
       "      <td>30</td>\n",
       "      <td>YES</td>\n",
       "    </tr>\n",
       "    <tr>\n",
       "      <th>20</th>\n",
       "      <td>YES</td>\n",
       "      <td>Single</td>\n",
       "      <td>88636</td>\n",
       "      <td>147222</td>\n",
       "      <td>26</td>\n",
       "      <td>NO</td>\n",
       "    </tr>\n",
       "    <tr>\n",
       "      <th>21</th>\n",
       "      <td>YES</td>\n",
       "      <td>Divorced</td>\n",
       "      <td>14310</td>\n",
       "      <td>29106</td>\n",
       "      <td>7</td>\n",
       "      <td>YES</td>\n",
       "    </tr>\n",
       "    <tr>\n",
       "      <th>22</th>\n",
       "      <td>YES</td>\n",
       "      <td>Divorced</td>\n",
       "      <td>78969</td>\n",
       "      <td>155342</td>\n",
       "      <td>14</td>\n",
       "      <td>NO</td>\n",
       "    </tr>\n",
       "    <tr>\n",
       "      <th>23</th>\n",
       "      <td>NO</td>\n",
       "      <td>Single</td>\n",
       "      <td>92040</td>\n",
       "      <td>50495</td>\n",
       "      <td>12</td>\n",
       "      <td>YES</td>\n",
       "    </tr>\n",
       "    <tr>\n",
       "      <th>24</th>\n",
       "      <td>NO</td>\n",
       "      <td>Divorced</td>\n",
       "      <td>38239</td>\n",
       "      <td>28495</td>\n",
       "      <td>30</td>\n",
       "      <td>NO</td>\n",
       "    </tr>\n",
       "    <tr>\n",
       "      <th>25</th>\n",
       "      <td>NO</td>\n",
       "      <td>Divorced</td>\n",
       "      <td>31417</td>\n",
       "      <td>124606</td>\n",
       "      <td>27</td>\n",
       "      <td>YES</td>\n",
       "    </tr>\n",
       "    <tr>\n",
       "      <th>26</th>\n",
       "      <td>YES</td>\n",
       "      <td>Divorced</td>\n",
       "      <td>55299</td>\n",
       "      <td>169128</td>\n",
       "      <td>15</td>\n",
       "      <td>NO</td>\n",
       "    </tr>\n",
       "    <tr>\n",
       "      <th>27</th>\n",
       "      <td>YES</td>\n",
       "      <td>Single</td>\n",
       "      <td>87778</td>\n",
       "      <td>28542</td>\n",
       "      <td>12</td>\n",
       "      <td>YES</td>\n",
       "    </tr>\n",
       "    <tr>\n",
       "      <th>28</th>\n",
       "      <td>YES</td>\n",
       "      <td>Single</td>\n",
       "      <td>10379</td>\n",
       "      <td>128766</td>\n",
       "      <td>5</td>\n",
       "      <td>YES</td>\n",
       "    </tr>\n",
       "    <tr>\n",
       "      <th>29</th>\n",
       "      <td>YES</td>\n",
       "      <td>Divorced</td>\n",
       "      <td>94033</td>\n",
       "      <td>41863</td>\n",
       "      <td>30</td>\n",
       "      <td>YES</td>\n",
       "    </tr>\n",
       "    <tr>\n",
       "      <th>...</th>\n",
       "      <td>...</td>\n",
       "      <td>...</td>\n",
       "      <td>...</td>\n",
       "      <td>...</td>\n",
       "      <td>...</td>\n",
       "      <td>...</td>\n",
       "    </tr>\n",
       "    <tr>\n",
       "      <th>570</th>\n",
       "      <td>NO</td>\n",
       "      <td>Single</td>\n",
       "      <td>55981</td>\n",
       "      <td>161629</td>\n",
       "      <td>29</td>\n",
       "      <td>YES</td>\n",
       "    </tr>\n",
       "    <tr>\n",
       "      <th>571</th>\n",
       "      <td>NO</td>\n",
       "      <td>Single</td>\n",
       "      <td>34833</td>\n",
       "      <td>95421</td>\n",
       "      <td>7</td>\n",
       "      <td>YES</td>\n",
       "    </tr>\n",
       "    <tr>\n",
       "      <th>572</th>\n",
       "      <td>YES</td>\n",
       "      <td>Married</td>\n",
       "      <td>39818</td>\n",
       "      <td>148068</td>\n",
       "      <td>13</td>\n",
       "      <td>NO</td>\n",
       "    </tr>\n",
       "    <tr>\n",
       "      <th>573</th>\n",
       "      <td>YES</td>\n",
       "      <td>Married</td>\n",
       "      <td>59227</td>\n",
       "      <td>116161</td>\n",
       "      <td>20</td>\n",
       "      <td>NO</td>\n",
       "    </tr>\n",
       "    <tr>\n",
       "      <th>574</th>\n",
       "      <td>YES</td>\n",
       "      <td>Divorced</td>\n",
       "      <td>44809</td>\n",
       "      <td>28768</td>\n",
       "      <td>29</td>\n",
       "      <td>YES</td>\n",
       "    </tr>\n",
       "    <tr>\n",
       "      <th>575</th>\n",
       "      <td>NO</td>\n",
       "      <td>Divorced</td>\n",
       "      <td>10735</td>\n",
       "      <td>95975</td>\n",
       "      <td>13</td>\n",
       "      <td>YES</td>\n",
       "    </tr>\n",
       "    <tr>\n",
       "      <th>576</th>\n",
       "      <td>YES</td>\n",
       "      <td>Married</td>\n",
       "      <td>50242</td>\n",
       "      <td>79653</td>\n",
       "      <td>15</td>\n",
       "      <td>YES</td>\n",
       "    </tr>\n",
       "    <tr>\n",
       "      <th>577</th>\n",
       "      <td>YES</td>\n",
       "      <td>Married</td>\n",
       "      <td>56166</td>\n",
       "      <td>52940</td>\n",
       "      <td>5</td>\n",
       "      <td>YES</td>\n",
       "    </tr>\n",
       "    <tr>\n",
       "      <th>578</th>\n",
       "      <td>NO</td>\n",
       "      <td>Divorced</td>\n",
       "      <td>42483</td>\n",
       "      <td>185339</td>\n",
       "      <td>6</td>\n",
       "      <td>NO</td>\n",
       "    </tr>\n",
       "    <tr>\n",
       "      <th>579</th>\n",
       "      <td>YES</td>\n",
       "      <td>Single</td>\n",
       "      <td>70572</td>\n",
       "      <td>125112</td>\n",
       "      <td>7</td>\n",
       "      <td>YES</td>\n",
       "    </tr>\n",
       "    <tr>\n",
       "      <th>580</th>\n",
       "      <td>YES</td>\n",
       "      <td>Divorced</td>\n",
       "      <td>31721</td>\n",
       "      <td>123335</td>\n",
       "      <td>1</td>\n",
       "      <td>YES</td>\n",
       "    </tr>\n",
       "    <tr>\n",
       "      <th>581</th>\n",
       "      <td>YES</td>\n",
       "      <td>Divorced</td>\n",
       "      <td>31085</td>\n",
       "      <td>57473</td>\n",
       "      <td>10</td>\n",
       "      <td>YES</td>\n",
       "    </tr>\n",
       "    <tr>\n",
       "      <th>582</th>\n",
       "      <td>YES</td>\n",
       "      <td>Married</td>\n",
       "      <td>84931</td>\n",
       "      <td>32907</td>\n",
       "      <td>12</td>\n",
       "      <td>YES</td>\n",
       "    </tr>\n",
       "    <tr>\n",
       "      <th>583</th>\n",
       "      <td>NO</td>\n",
       "      <td>Married</td>\n",
       "      <td>69036</td>\n",
       "      <td>28874</td>\n",
       "      <td>19</td>\n",
       "      <td>NO</td>\n",
       "    </tr>\n",
       "    <tr>\n",
       "      <th>584</th>\n",
       "      <td>NO</td>\n",
       "      <td>Divorced</td>\n",
       "      <td>42679</td>\n",
       "      <td>155684</td>\n",
       "      <td>4</td>\n",
       "      <td>YES</td>\n",
       "    </tr>\n",
       "    <tr>\n",
       "      <th>585</th>\n",
       "      <td>NO</td>\n",
       "      <td>Single</td>\n",
       "      <td>84557</td>\n",
       "      <td>137622</td>\n",
       "      <td>2</td>\n",
       "      <td>YES</td>\n",
       "    </tr>\n",
       "    <tr>\n",
       "      <th>586</th>\n",
       "      <td>YES</td>\n",
       "      <td>Single</td>\n",
       "      <td>54126</td>\n",
       "      <td>106230</td>\n",
       "      <td>30</td>\n",
       "      <td>NO</td>\n",
       "    </tr>\n",
       "    <tr>\n",
       "      <th>587</th>\n",
       "      <td>NO</td>\n",
       "      <td>Single</td>\n",
       "      <td>87685</td>\n",
       "      <td>154677</td>\n",
       "      <td>26</td>\n",
       "      <td>YES</td>\n",
       "    </tr>\n",
       "    <tr>\n",
       "      <th>588</th>\n",
       "      <td>YES</td>\n",
       "      <td>Married</td>\n",
       "      <td>85076</td>\n",
       "      <td>93242</td>\n",
       "      <td>27</td>\n",
       "      <td>YES</td>\n",
       "    </tr>\n",
       "    <tr>\n",
       "      <th>589</th>\n",
       "      <td>YES</td>\n",
       "      <td>Married</td>\n",
       "      <td>31633</td>\n",
       "      <td>30774</td>\n",
       "      <td>10</td>\n",
       "      <td>NO</td>\n",
       "    </tr>\n",
       "    <tr>\n",
       "      <th>590</th>\n",
       "      <td>NO</td>\n",
       "      <td>Married</td>\n",
       "      <td>43018</td>\n",
       "      <td>85195</td>\n",
       "      <td>14</td>\n",
       "      <td>YES</td>\n",
       "    </tr>\n",
       "    <tr>\n",
       "      <th>591</th>\n",
       "      <td>YES</td>\n",
       "      <td>Single</td>\n",
       "      <td>27394</td>\n",
       "      <td>132859</td>\n",
       "      <td>18</td>\n",
       "      <td>YES</td>\n",
       "    </tr>\n",
       "    <tr>\n",
       "      <th>592</th>\n",
       "      <td>YES</td>\n",
       "      <td>Single</td>\n",
       "      <td>68152</td>\n",
       "      <td>75143</td>\n",
       "      <td>16</td>\n",
       "      <td>NO</td>\n",
       "    </tr>\n",
       "    <tr>\n",
       "      <th>593</th>\n",
       "      <td>NO</td>\n",
       "      <td>Divorced</td>\n",
       "      <td>84775</td>\n",
       "      <td>131963</td>\n",
       "      <td>10</td>\n",
       "      <td>YES</td>\n",
       "    </tr>\n",
       "    <tr>\n",
       "      <th>594</th>\n",
       "      <td>NO</td>\n",
       "      <td>Married</td>\n",
       "      <td>47364</td>\n",
       "      <td>97526</td>\n",
       "      <td>9</td>\n",
       "      <td>YES</td>\n",
       "    </tr>\n",
       "    <tr>\n",
       "      <th>595</th>\n",
       "      <td>YES</td>\n",
       "      <td>Divorced</td>\n",
       "      <td>76340</td>\n",
       "      <td>39492</td>\n",
       "      <td>7</td>\n",
       "      <td>YES</td>\n",
       "    </tr>\n",
       "    <tr>\n",
       "      <th>596</th>\n",
       "      <td>YES</td>\n",
       "      <td>Divorced</td>\n",
       "      <td>69967</td>\n",
       "      <td>55369</td>\n",
       "      <td>2</td>\n",
       "      <td>YES</td>\n",
       "    </tr>\n",
       "    <tr>\n",
       "      <th>597</th>\n",
       "      <td>NO</td>\n",
       "      <td>Divorced</td>\n",
       "      <td>47334</td>\n",
       "      <td>154058</td>\n",
       "      <td>0</td>\n",
       "      <td>YES</td>\n",
       "    </tr>\n",
       "    <tr>\n",
       "      <th>598</th>\n",
       "      <td>YES</td>\n",
       "      <td>Married</td>\n",
       "      <td>98592</td>\n",
       "      <td>180083</td>\n",
       "      <td>17</td>\n",
       "      <td>NO</td>\n",
       "    </tr>\n",
       "    <tr>\n",
       "      <th>599</th>\n",
       "      <td>NO</td>\n",
       "      <td>Divorced</td>\n",
       "      <td>96519</td>\n",
       "      <td>158137</td>\n",
       "      <td>16</td>\n",
       "      <td>NO</td>\n",
       "    </tr>\n",
       "  </tbody>\n",
       "</table>\n",
       "<p>600 rows × 6 columns</p>\n",
       "</div>"
      ],
      "text/plain": [
       "    Undergrad Marital.Status  Taxable.Income  City.Population  \\\n",
       "0          NO         Single           68833            50047   \n",
       "1         YES       Divorced           33700           134075   \n",
       "2          NO        Married           36925           160205   \n",
       "3         YES         Single           50190           193264   \n",
       "4          NO        Married           81002            27533   \n",
       "5          NO       Divorced           33329           116382   \n",
       "6          NO       Divorced           83357            80890   \n",
       "7         YES         Single           62774           131253   \n",
       "8          NO         Single           83519           102481   \n",
       "9         YES       Divorced           98152           155482   \n",
       "10         NO         Single           29732           102602   \n",
       "11         NO         Single           61063            94875   \n",
       "12         NO       Divorced           11794           148033   \n",
       "13         NO        Married           61830            86649   \n",
       "14         NO        Married           64070            57529   \n",
       "15         NO       Divorced           69869           107764   \n",
       "16        YES       Divorced           24987            34551   \n",
       "17        YES        Married           39476            57194   \n",
       "18        YES       Divorced           97957            59269   \n",
       "19         NO         Single           10987           126953   \n",
       "20        YES         Single           88636           147222   \n",
       "21        YES       Divorced           14310            29106   \n",
       "22        YES       Divorced           78969           155342   \n",
       "23         NO         Single           92040            50495   \n",
       "24         NO       Divorced           38239            28495   \n",
       "25         NO       Divorced           31417           124606   \n",
       "26        YES       Divorced           55299           169128   \n",
       "27        YES         Single           87778            28542   \n",
       "28        YES         Single           10379           128766   \n",
       "29        YES       Divorced           94033            41863   \n",
       "..        ...            ...             ...              ...   \n",
       "570        NO         Single           55981           161629   \n",
       "571        NO         Single           34833            95421   \n",
       "572       YES        Married           39818           148068   \n",
       "573       YES        Married           59227           116161   \n",
       "574       YES       Divorced           44809            28768   \n",
       "575        NO       Divorced           10735            95975   \n",
       "576       YES        Married           50242            79653   \n",
       "577       YES        Married           56166            52940   \n",
       "578        NO       Divorced           42483           185339   \n",
       "579       YES         Single           70572           125112   \n",
       "580       YES       Divorced           31721           123335   \n",
       "581       YES       Divorced           31085            57473   \n",
       "582       YES        Married           84931            32907   \n",
       "583        NO        Married           69036            28874   \n",
       "584        NO       Divorced           42679           155684   \n",
       "585        NO         Single           84557           137622   \n",
       "586       YES         Single           54126           106230   \n",
       "587        NO         Single           87685           154677   \n",
       "588       YES        Married           85076            93242   \n",
       "589       YES        Married           31633            30774   \n",
       "590        NO        Married           43018            85195   \n",
       "591       YES         Single           27394           132859   \n",
       "592       YES         Single           68152            75143   \n",
       "593        NO       Divorced           84775           131963   \n",
       "594        NO        Married           47364            97526   \n",
       "595       YES       Divorced           76340            39492   \n",
       "596       YES       Divorced           69967            55369   \n",
       "597        NO       Divorced           47334           154058   \n",
       "598       YES        Married           98592           180083   \n",
       "599        NO       Divorced           96519           158137   \n",
       "\n",
       "     Work.Experience Urban  \n",
       "0                 10   YES  \n",
       "1                 18   YES  \n",
       "2                 30   YES  \n",
       "3                 15   YES  \n",
       "4                 28    NO  \n",
       "5                  0    NO  \n",
       "6                  8   YES  \n",
       "7                  3   YES  \n",
       "8                 12   YES  \n",
       "9                  4   YES  \n",
       "10                19   YES  \n",
       "11                 6   YES  \n",
       "12                14   YES  \n",
       "13                16   YES  \n",
       "14                13   YES  \n",
       "15                29    NO  \n",
       "16                29    NO  \n",
       "17                25    NO  \n",
       "18                 6    NO  \n",
       "19                30   YES  \n",
       "20                26    NO  \n",
       "21                 7   YES  \n",
       "22                14    NO  \n",
       "23                12   YES  \n",
       "24                30    NO  \n",
       "25                27   YES  \n",
       "26                15    NO  \n",
       "27                12   YES  \n",
       "28                 5   YES  \n",
       "29                30   YES  \n",
       "..               ...   ...  \n",
       "570               29   YES  \n",
       "571                7   YES  \n",
       "572               13    NO  \n",
       "573               20    NO  \n",
       "574               29   YES  \n",
       "575               13   YES  \n",
       "576               15   YES  \n",
       "577                5   YES  \n",
       "578                6    NO  \n",
       "579                7   YES  \n",
       "580                1   YES  \n",
       "581               10   YES  \n",
       "582               12   YES  \n",
       "583               19    NO  \n",
       "584                4   YES  \n",
       "585                2   YES  \n",
       "586               30    NO  \n",
       "587               26   YES  \n",
       "588               27   YES  \n",
       "589               10    NO  \n",
       "590               14   YES  \n",
       "591               18   YES  \n",
       "592               16    NO  \n",
       "593               10   YES  \n",
       "594                9   YES  \n",
       "595                7   YES  \n",
       "596                2   YES  \n",
       "597                0   YES  \n",
       "598               17    NO  \n",
       "599               16    NO  \n",
       "\n",
       "[600 rows x 6 columns]"
      ]
     },
     "execution_count": 311,
     "metadata": {},
     "output_type": "execute_result"
    }
   ],
   "source": [
    "df.dropna()"
   ]
  },
  {
   "cell_type": "code",
   "execution_count": 312,
   "metadata": {},
   "outputs": [
    {
     "data": {
      "text/plain": [
       "<matplotlib.axes._subplots.AxesSubplot at 0x27dc6219898>"
      ]
     },
     "execution_count": 312,
     "metadata": {},
     "output_type": "execute_result"
    },
    {
     "data": {
      "image/png": "[encoded data removed]",
      "text/plain": [
       "<Figure size 432x288 with 1 Axes>"
      ]
     },
     "metadata": {},
     "output_type": "display_data"
    }
   ],
   "source": [
    "df['Marital.Status'].value_counts().plot(kind='bar')"
   ]
  },
  {
   "cell_type": "code",
   "execution_count": 313,
   "metadata": {},
   "outputs": [
    {
     "data": {
      "text/plain": [
       "<matplotlib.axes._subplots.AxesSubplot at 0x27dc625df60>"
      ]
     },
     "execution_count": 313,
     "metadata": {},
     "output_type": "execute_result"
    },
    {
     "data": {
      "image/png": "[encoded data removed]",
      "text/plain": [
       "<Figure size 432x288 with 1 Axes>"
      ]
     },
     "metadata": {},
     "output_type": "display_data"
    }
   ],
   "source": [
    "df['Undergrad'].value_counts().plot(kind='pie')"
   ]
  },
  {
   "cell_type": "code",
   "execution_count": 316,
   "metadata": {},
   "outputs": [],
   "source": [
    "from sklearn.model_selection import train_test_split"
   ]
  },
  {
   "cell_type": "code",
   "execution_count": null,
   "metadata": {},
   "outputs": [],
   "source": []
  },
  {
   "cell_type": "code",
   "execution_count": 339,
   "metadata": {},
   "outputs": [],
   "source": [
    "df['Status']=['Risky' if x<30000 else 'Good' for x in df['Taxable.Income']]"
   ]
  },
  {
   "cell_type": "code",
   "execution_count": 340,
   "metadata": {},
   "outputs": [
    {
     "data": {
      "text/plain": [
       "Good     476\n",
       "Risky    124\n",
       "Name: Status, dtype: int64"
      ]
     },
     "execution_count": 340,
     "metadata": {},
     "output_type": "execute_result"
    }
   ],
   "source": [
    "df['Status'].value_counts()"
   ]
  },
  {
   "cell_type": "code",
   "execution_count": 341,
   "metadata": {},
   "outputs": [
    {
     "data": {
      "text/html": [
       "<div>\n",
       "<style scoped>\n",
       "    .dataframe tbody tr th:only-of-type {\n",
       "        vertical-align: middle;\n",
       "    }\n",
       "\n",
       "    .dataframe tbody tr th {\n",
       "        vertical-align: top;\n",
       "    }\n",
       "\n",
       "    .dataframe thead th {\n",
       "        text-align: right;\n",
       "    }\n",
       "</style>\n",
       "<table border=\"1\" class=\"dataframe\">\n",
       "  <thead>\n",
       "    <tr style=\"text-align: right;\">\n",
       "      <th></th>\n",
       "      <th>Undergrad</th>\n",
       "      <th>Marital.Status</th>\n",
       "      <th>Taxable.Income</th>\n",
       "      <th>City.Population</th>\n",
       "      <th>Work.Experience</th>\n",
       "      <th>Urban</th>\n",
       "      <th>Status</th>\n",
       "    </tr>\n",
       "  </thead>\n",
       "  <tbody>\n",
       "    <tr>\n",
       "      <th>0</th>\n",
       "      <td>NO</td>\n",
       "      <td>Single</td>\n",
       "      <td>68833</td>\n",
       "      <td>50047</td>\n",
       "      <td>10</td>\n",
       "      <td>YES</td>\n",
       "      <td>Good</td>\n",
       "    </tr>\n",
       "    <tr>\n",
       "      <th>1</th>\n",
       "      <td>YES</td>\n",
       "      <td>Divorced</td>\n",
       "      <td>33700</td>\n",
       "      <td>134075</td>\n",
       "      <td>18</td>\n",
       "      <td>YES</td>\n",
       "      <td>Good</td>\n",
       "    </tr>\n",
       "    <tr>\n",
       "      <th>2</th>\n",
       "      <td>NO</td>\n",
       "      <td>Married</td>\n",
       "      <td>36925</td>\n",
       "      <td>160205</td>\n",
       "      <td>30</td>\n",
       "      <td>YES</td>\n",
       "      <td>Good</td>\n",
       "    </tr>\n",
       "    <tr>\n",
       "      <th>3</th>\n",
       "      <td>YES</td>\n",
       "      <td>Single</td>\n",
       "      <td>50190</td>\n",
       "      <td>193264</td>\n",
       "      <td>15</td>\n",
       "      <td>YES</td>\n",
       "      <td>Good</td>\n",
       "    </tr>\n",
       "    <tr>\n",
       "      <th>4</th>\n",
       "      <td>NO</td>\n",
       "      <td>Married</td>\n",
       "      <td>81002</td>\n",
       "      <td>27533</td>\n",
       "      <td>28</td>\n",
       "      <td>NO</td>\n",
       "      <td>Good</td>\n",
       "    </tr>\n",
       "  </tbody>\n",
       "</table>\n",
       "</div>"
      ],
      "text/plain": [
       "  Undergrad Marital.Status  Taxable.Income  City.Population  Work.Experience  \\\n",
       "0        NO         Single           68833            50047               10   \n",
       "1       YES       Divorced           33700           134075               18   \n",
       "2        NO        Married           36925           160205               30   \n",
       "3       YES         Single           50190           193264               15   \n",
       "4        NO        Married           81002            27533               28   \n",
       "\n",
       "  Urban Status  \n",
       "0   YES   Good  \n",
       "1   YES   Good  \n",
       "2   YES   Good  \n",
       "3   YES   Good  \n",
       "4    NO   Good  "
      ]
     },
     "execution_count": 341,
     "metadata": {},
     "output_type": "execute_result"
    }
   ],
   "source": [
    "df.head()"
   ]
  },
  {
   "cell_type": "code",
   "execution_count": 342,
   "metadata": {},
   "outputs": [],
   "source": [
    "y=df['Status']"
   ]
  },
  {
   "cell_type": "code",
   "execution_count": 343,
   "metadata": {},
   "outputs": [
    {
     "data": {
      "text/plain": [
       "(600,)"
      ]
     },
     "execution_count": 343,
     "metadata": {},
     "output_type": "execute_result"
    }
   ],
   "source": [
    "y.shape"
   ]
  },
  {
   "cell_type": "code",
   "execution_count": 344,
   "metadata": {},
   "outputs": [
    {
     "data": {
      "text/plain": [
       "array(['Good', 'Risky'], dtype=object)"
      ]
     },
     "execution_count": 344,
     "metadata": {},
     "output_type": "execute_result"
    }
   ],
   "source": [
    "np.unique(y)#False-- Good, True-- Risky to fraud"
   ]
  },
  {
   "cell_type": "code",
   "execution_count": 345,
   "metadata": {},
   "outputs": [],
   "source": [
    "x=df.drop('Status',axis=1)"
   ]
  },
  {
   "cell_type": "code",
   "execution_count": 346,
   "metadata": {},
   "outputs": [],
   "source": [
    "x1=x.drop('Taxable.Income',axis=1)"
   ]
  },
  {
   "cell_type": "code",
   "execution_count": 347,
   "metadata": {},
   "outputs": [
    {
     "data": {
      "text/plain": [
       "(600, 5)"
      ]
     },
     "execution_count": 347,
     "metadata": {},
     "output_type": "execute_result"
    }
   ],
   "source": [
    "x1.shape"
   ]
  },
  {
   "cell_type": "code",
   "execution_count": 364,
   "metadata": {},
   "outputs": [],
   "source": [
    "X_train,X_test,Y_train,Y_test=train_test_split(x1,y,test_size=0.2,random_state=90)"
   ]
  },
  {
   "cell_type": "code",
   "execution_count": 365,
   "metadata": {},
   "outputs": [],
   "source": [
    "X_train=pd.get_dummies(X_train)#Dummies to convert string values to numercial\n",
    "X_test=pd.get_dummies(X_test)"
   ]
  },
  {
   "cell_type": "code",
   "execution_count": 366,
   "metadata": {},
   "outputs": [
    {
     "data": {
      "text/plain": [
       "((480, 9), (120, 9), (480,), (120,))"
      ]
     },
     "execution_count": 366,
     "metadata": {},
     "output_type": "execute_result"
    }
   ],
   "source": [
    "X_train.shape,X_test.shape,Y_train.shape,Y_test.shape"
   ]
  },
  {
   "cell_type": "code",
   "execution_count": 367,
   "metadata": {},
   "outputs": [],
   "source": [
    "from sklearn.tree import DecisionTreeClassifier"
   ]
  },
  {
   "cell_type": "code",
   "execution_count": 368,
   "metadata": {},
   "outputs": [],
   "source": [
    "model=DecisionTreeClassifier()"
   ]
  },
  {
   "cell_type": "code",
   "execution_count": 369,
   "metadata": {},
   "outputs": [
    {
     "data": {
      "text/plain": [
       "DecisionTreeClassifier(class_weight=None, criterion='gini', max_depth=None,\n",
       "            max_features=None, max_leaf_nodes=None,\n",
       "            min_impurity_decrease=0.0, min_impurity_split=None,\n",
       "            min_samples_leaf=1, min_samples_split=2,\n",
       "            min_weight_fraction_leaf=0.0, presort=False, random_state=None,\n",
       "            splitter='best')"
      ]
     },
     "execution_count": 369,
     "metadata": {},
     "output_type": "execute_result"
    }
   ],
   "source": [
    "model.fit(X_train,Y_train)"
   ]
  },
  {
   "cell_type": "code",
   "execution_count": 370,
   "metadata": {},
   "outputs": [
    {
     "data": {
      "text/plain": [
       "0.6666666666666666"
      ]
     },
     "execution_count": 370,
     "metadata": {},
     "output_type": "execute_result"
    }
   ],
   "source": [
    "model.score(X_test,Y_test)"
   ]
  },
  {
   "cell_type": "code",
   "execution_count": 371,
   "metadata": {},
   "outputs": [
    {
     "data": {
      "text/plain": [
       "1.0"
      ]
     },
     "execution_count": 371,
     "metadata": {},
     "output_type": "execute_result"
    }
   ],
   "source": [
    "model.score(X_train,Y_train)"
   ]
  },
  {
   "cell_type": "code",
   "execution_count": 372,
   "metadata": {},
   "outputs": [],
   "source": [
    "y_pred=model.predict(X_test)"
   ]
  },
  {
   "cell_type": "code",
   "execution_count": 373,
   "metadata": {},
   "outputs": [
    {
     "data": {
      "text/html": [
       "<div>\n",
       "<style scoped>\n",
       "    .dataframe tbody tr th:only-of-type {\n",
       "        vertical-align: middle;\n",
       "    }\n",
       "\n",
       "    .dataframe tbody tr th {\n",
       "        vertical-align: top;\n",
       "    }\n",
       "\n",
       "    .dataframe thead th {\n",
       "        text-align: right;\n",
       "    }\n",
       "</style>\n",
       "<table border=\"1\" class=\"dataframe\">\n",
       "  <thead>\n",
       "    <tr style=\"text-align: right;\">\n",
       "      <th>Status</th>\n",
       "      <th>Good</th>\n",
       "      <th>Risky</th>\n",
       "    </tr>\n",
       "    <tr>\n",
       "      <th>row_0</th>\n",
       "      <th></th>\n",
       "      <th></th>\n",
       "    </tr>\n",
       "  </thead>\n",
       "  <tbody>\n",
       "    <tr>\n",
       "      <th>Good</th>\n",
       "      <td>71</td>\n",
       "      <td>19</td>\n",
       "    </tr>\n",
       "    <tr>\n",
       "      <th>Risky</th>\n",
       "      <td>21</td>\n",
       "      <td>9</td>\n",
       "    </tr>\n",
       "  </tbody>\n",
       "</table>\n",
       "</div>"
      ],
      "text/plain": [
       "Status  Good  Risky\n",
       "row_0              \n",
       "Good      71     19\n",
       "Risky     21      9"
      ]
     },
     "execution_count": 373,
     "metadata": {},
     "output_type": "execute_result"
    }
   ],
   "source": [
    "pd.crosstab(y_pred,Y_test)"
   ]
  },
  {
   "cell_type": "code",
   "execution_count": 374,
   "metadata": {},
   "outputs": [
    {
     "data": {
      "text/plain": [
       "120"
      ]
     },
     "execution_count": 374,
     "metadata": {},
     "output_type": "execute_result"
    }
   ],
   "source": [
    "Y_test.count()"
   ]
  },
  {
   "cell_type": "code",
   "execution_count": 375,
   "metadata": {},
   "outputs": [
    {
     "data": {
      "text/html": [
       "<div>\n",
       "<style scoped>\n",
       "    .dataframe tbody tr th:only-of-type {\n",
       "        vertical-align: middle;\n",
       "    }\n",
       "\n",
       "    .dataframe tbody tr th {\n",
       "        vertical-align: top;\n",
       "    }\n",
       "\n",
       "    .dataframe thead th {\n",
       "        text-align: right;\n",
       "    }\n",
       "</style>\n",
       "<table border=\"1\" class=\"dataframe\">\n",
       "  <thead>\n",
       "    <tr style=\"text-align: right;\">\n",
       "      <th></th>\n",
       "      <th>City.Population</th>\n",
       "      <th>Work.Experience</th>\n",
       "      <th>Undergrad_NO</th>\n",
       "      <th>Undergrad_YES</th>\n",
       "      <th>Marital.Status_Divorced</th>\n",
       "      <th>Marital.Status_Married</th>\n",
       "      <th>Marital.Status_Single</th>\n",
       "      <th>Urban_NO</th>\n",
       "      <th>Urban_YES</th>\n",
       "    </tr>\n",
       "  </thead>\n",
       "  <tbody>\n",
       "    <tr>\n",
       "      <th>364</th>\n",
       "      <td>62943</td>\n",
       "      <td>17</td>\n",
       "      <td>0</td>\n",
       "      <td>1</td>\n",
       "      <td>0</td>\n",
       "      <td>1</td>\n",
       "      <td>0</td>\n",
       "      <td>1</td>\n",
       "      <td>0</td>\n",
       "    </tr>\n",
       "    <tr>\n",
       "      <th>410</th>\n",
       "      <td>41152</td>\n",
       "      <td>27</td>\n",
       "      <td>1</td>\n",
       "      <td>0</td>\n",
       "      <td>1</td>\n",
       "      <td>0</td>\n",
       "      <td>0</td>\n",
       "      <td>1</td>\n",
       "      <td>0</td>\n",
       "    </tr>\n",
       "    <tr>\n",
       "      <th>513</th>\n",
       "      <td>140400</td>\n",
       "      <td>10</td>\n",
       "      <td>1</td>\n",
       "      <td>0</td>\n",
       "      <td>1</td>\n",
       "      <td>0</td>\n",
       "      <td>0</td>\n",
       "      <td>1</td>\n",
       "      <td>0</td>\n",
       "    </tr>\n",
       "    <tr>\n",
       "      <th>188</th>\n",
       "      <td>137569</td>\n",
       "      <td>10</td>\n",
       "      <td>1</td>\n",
       "      <td>0</td>\n",
       "      <td>1</td>\n",
       "      <td>0</td>\n",
       "      <td>0</td>\n",
       "      <td>1</td>\n",
       "      <td>0</td>\n",
       "    </tr>\n",
       "    <tr>\n",
       "      <th>436</th>\n",
       "      <td>158057</td>\n",
       "      <td>4</td>\n",
       "      <td>1</td>\n",
       "      <td>0</td>\n",
       "      <td>1</td>\n",
       "      <td>0</td>\n",
       "      <td>0</td>\n",
       "      <td>0</td>\n",
       "      <td>1</td>\n",
       "    </tr>\n",
       "  </tbody>\n",
       "</table>\n",
       "</div>"
      ],
      "text/plain": [
       "     City.Population  Work.Experience  Undergrad_NO  Undergrad_YES  \\\n",
       "364            62943               17             0              1   \n",
       "410            41152               27             1              0   \n",
       "513           140400               10             1              0   \n",
       "188           137569               10             1              0   \n",
       "436           158057                4             1              0   \n",
       "\n",
       "     Marital.Status_Divorced  Marital.Status_Married  Marital.Status_Single  \\\n",
       "364                        0                       1                      0   \n",
       "410                        1                       0                      0   \n",
       "513                        1                       0                      0   \n",
       "188                        1                       0                      0   \n",
       "436                        1                       0                      0   \n",
       "\n",
       "     Urban_NO  Urban_YES  \n",
       "364         1          0  \n",
       "410         1          0  \n",
       "513         1          0  \n",
       "188         1          0  \n",
       "436         0          1  "
      ]
     },
     "execution_count": 375,
     "metadata": {},
     "output_type": "execute_result"
    }
   ],
   "source": [
    "X_test.head()"
   ]
  },
  {
   "cell_type": "code",
   "execution_count": 376,
   "metadata": {},
   "outputs": [
    {
     "data": {
      "text/plain": [
       "(600, 7)"
      ]
     },
     "execution_count": 376,
     "metadata": {},
     "output_type": "execute_result"
    }
   ],
   "source": [
    "df.shape"
   ]
  },
  {
   "cell_type": "code",
   "execution_count": 377,
   "metadata": {},
   "outputs": [
    {
     "data": {
      "text/html": [
       "<div>\n",
       "<style scoped>\n",
       "    .dataframe tbody tr th:only-of-type {\n",
       "        vertical-align: middle;\n",
       "    }\n",
       "\n",
       "    .dataframe tbody tr th {\n",
       "        vertical-align: top;\n",
       "    }\n",
       "\n",
       "    .dataframe thead th {\n",
       "        text-align: right;\n",
       "    }\n",
       "</style>\n",
       "<table border=\"1\" class=\"dataframe\">\n",
       "  <thead>\n",
       "    <tr style=\"text-align: right;\">\n",
       "      <th></th>\n",
       "      <th>Undergrad</th>\n",
       "      <th>Marital.Status</th>\n",
       "      <th>Taxable.Income</th>\n",
       "      <th>City.Population</th>\n",
       "      <th>Work.Experience</th>\n",
       "      <th>Urban</th>\n",
       "      <th>Status</th>\n",
       "    </tr>\n",
       "  </thead>\n",
       "  <tbody>\n",
       "    <tr>\n",
       "      <th>0</th>\n",
       "      <td>NO</td>\n",
       "      <td>Single</td>\n",
       "      <td>68833</td>\n",
       "      <td>50047</td>\n",
       "      <td>10</td>\n",
       "      <td>YES</td>\n",
       "      <td>Good</td>\n",
       "    </tr>\n",
       "    <tr>\n",
       "      <th>1</th>\n",
       "      <td>YES</td>\n",
       "      <td>Divorced</td>\n",
       "      <td>33700</td>\n",
       "      <td>134075</td>\n",
       "      <td>18</td>\n",
       "      <td>YES</td>\n",
       "      <td>Good</td>\n",
       "    </tr>\n",
       "    <tr>\n",
       "      <th>2</th>\n",
       "      <td>NO</td>\n",
       "      <td>Married</td>\n",
       "      <td>36925</td>\n",
       "      <td>160205</td>\n",
       "      <td>30</td>\n",
       "      <td>YES</td>\n",
       "      <td>Good</td>\n",
       "    </tr>\n",
       "    <tr>\n",
       "      <th>3</th>\n",
       "      <td>YES</td>\n",
       "      <td>Single</td>\n",
       "      <td>50190</td>\n",
       "      <td>193264</td>\n",
       "      <td>15</td>\n",
       "      <td>YES</td>\n",
       "      <td>Good</td>\n",
       "    </tr>\n",
       "    <tr>\n",
       "      <th>4</th>\n",
       "      <td>NO</td>\n",
       "      <td>Married</td>\n",
       "      <td>81002</td>\n",
       "      <td>27533</td>\n",
       "      <td>28</td>\n",
       "      <td>NO</td>\n",
       "      <td>Good</td>\n",
       "    </tr>\n",
       "    <tr>\n",
       "      <th>5</th>\n",
       "      <td>NO</td>\n",
       "      <td>Divorced</td>\n",
       "      <td>33329</td>\n",
       "      <td>116382</td>\n",
       "      <td>0</td>\n",
       "      <td>NO</td>\n",
       "      <td>Good</td>\n",
       "    </tr>\n",
       "    <tr>\n",
       "      <th>6</th>\n",
       "      <td>NO</td>\n",
       "      <td>Divorced</td>\n",
       "      <td>83357</td>\n",
       "      <td>80890</td>\n",
       "      <td>8</td>\n",
       "      <td>YES</td>\n",
       "      <td>Good</td>\n",
       "    </tr>\n",
       "    <tr>\n",
       "      <th>7</th>\n",
       "      <td>YES</td>\n",
       "      <td>Single</td>\n",
       "      <td>62774</td>\n",
       "      <td>131253</td>\n",
       "      <td>3</td>\n",
       "      <td>YES</td>\n",
       "      <td>Good</td>\n",
       "    </tr>\n",
       "    <tr>\n",
       "      <th>8</th>\n",
       "      <td>NO</td>\n",
       "      <td>Single</td>\n",
       "      <td>83519</td>\n",
       "      <td>102481</td>\n",
       "      <td>12</td>\n",
       "      <td>YES</td>\n",
       "      <td>Good</td>\n",
       "    </tr>\n",
       "    <tr>\n",
       "      <th>9</th>\n",
       "      <td>YES</td>\n",
       "      <td>Divorced</td>\n",
       "      <td>98152</td>\n",
       "      <td>155482</td>\n",
       "      <td>4</td>\n",
       "      <td>YES</td>\n",
       "      <td>Good</td>\n",
       "    </tr>\n",
       "  </tbody>\n",
       "</table>\n",
       "</div>"
      ],
      "text/plain": [
       "  Undergrad Marital.Status  Taxable.Income  City.Population  Work.Experience  \\\n",
       "0        NO         Single           68833            50047               10   \n",
       "1       YES       Divorced           33700           134075               18   \n",
       "2        NO        Married           36925           160205               30   \n",
       "3       YES         Single           50190           193264               15   \n",
       "4        NO        Married           81002            27533               28   \n",
       "5        NO       Divorced           33329           116382                0   \n",
       "6        NO       Divorced           83357            80890                8   \n",
       "7       YES         Single           62774           131253                3   \n",
       "8        NO         Single           83519           102481               12   \n",
       "9       YES       Divorced           98152           155482                4   \n",
       "\n",
       "  Urban Status  \n",
       "0   YES   Good  \n",
       "1   YES   Good  \n",
       "2   YES   Good  \n",
       "3   YES   Good  \n",
       "4    NO   Good  \n",
       "5    NO   Good  \n",
       "6   YES   Good  \n",
       "7   YES   Good  \n",
       "8   YES   Good  \n",
       "9   YES   Good  "
      ]
     },
     "execution_count": 377,
     "metadata": {},
     "output_type": "execute_result"
    }
   ],
   "source": [
    "df.head(10)"
   ]
  },
  {
   "cell_type": "code",
   "execution_count": 378,
   "metadata": {},
   "outputs": [
    {
     "data": {
      "text/html": [
       "<div>\n",
       "<style scoped>\n",
       "    .dataframe tbody tr th:only-of-type {\n",
       "        vertical-align: middle;\n",
       "    }\n",
       "\n",
       "    .dataframe tbody tr th {\n",
       "        vertical-align: top;\n",
       "    }\n",
       "\n",
       "    .dataframe thead th {\n",
       "        text-align: right;\n",
       "    }\n",
       "</style>\n",
       "<table border=\"1\" class=\"dataframe\">\n",
       "  <thead>\n",
       "    <tr style=\"text-align: right;\">\n",
       "      <th></th>\n",
       "      <th>Taxable.Income</th>\n",
       "      <th>City.Population</th>\n",
       "      <th>Work.Experience</th>\n",
       "    </tr>\n",
       "  </thead>\n",
       "  <tbody>\n",
       "    <tr>\n",
       "      <th>Taxable.Income</th>\n",
       "      <td>1.000000</td>\n",
       "      <td>-0.064387</td>\n",
       "      <td>-0.001818</td>\n",
       "    </tr>\n",
       "    <tr>\n",
       "      <th>City.Population</th>\n",
       "      <td>-0.064387</td>\n",
       "      <td>1.000000</td>\n",
       "      <td>0.013135</td>\n",
       "    </tr>\n",
       "    <tr>\n",
       "      <th>Work.Experience</th>\n",
       "      <td>-0.001818</td>\n",
       "      <td>0.013135</td>\n",
       "      <td>1.000000</td>\n",
       "    </tr>\n",
       "  </tbody>\n",
       "</table>\n",
       "</div>"
      ],
      "text/plain": [
       "                 Taxable.Income  City.Population  Work.Experience\n",
       "Taxable.Income         1.000000        -0.064387        -0.001818\n",
       "City.Population       -0.064387         1.000000         0.013135\n",
       "Work.Experience       -0.001818         0.013135         1.000000"
      ]
     },
     "execution_count": 378,
     "metadata": {},
     "output_type": "execute_result"
    }
   ],
   "source": [
    "df.corr()"
   ]
  },
  {
   "cell_type": "code",
   "execution_count": 379,
   "metadata": {},
   "outputs": [],
   "source": [
    "from sklearn.ensemble import RandomForestClassifier"
   ]
  },
  {
   "cell_type": "code",
   "execution_count": 380,
   "metadata": {},
   "outputs": [],
   "source": [
    "rf=RandomForestClassifier(n_estimators=30,max_depth=2)"
   ]
  },
  {
   "cell_type": "code",
   "execution_count": 381,
   "metadata": {},
   "outputs": [
    {
     "data": {
      "text/plain": [
       "RandomForestClassifier(bootstrap=True, class_weight=None, criterion='gini',\n",
       "            max_depth=2, max_features='auto', max_leaf_nodes=None,\n",
       "            min_impurity_decrease=0.0, min_impurity_split=None,\n",
       "            min_samples_leaf=1, min_samples_split=2,\n",
       "            min_weight_fraction_leaf=0.0, n_estimators=30, n_jobs=1,\n",
       "            oob_score=False, random_state=None, verbose=0,\n",
       "            warm_start=False)"
      ]
     },
     "execution_count": 381,
     "metadata": {},
     "output_type": "execute_result"
    }
   ],
   "source": [
    "rf.fit(X_train,Y_train)"
   ]
  },
  {
   "cell_type": "code",
   "execution_count": 382,
   "metadata": {},
   "outputs": [
    {
     "data": {
      "text/plain": [
       "0.8"
      ]
     },
     "execution_count": 382,
     "metadata": {},
     "output_type": "execute_result"
    }
   ],
   "source": [
    "rf.score(X_train,Y_train)"
   ]
  },
  {
   "cell_type": "code",
   "execution_count": 383,
   "metadata": {},
   "outputs": [
    {
     "data": {
      "text/plain": [
       "<matplotlib.axes._subplots.AxesSubplot at 0x27dc62d79e8>"
      ]
     },
     "execution_count": 383,
     "metadata": {},
     "output_type": "execute_result"
    },
    {
     "data": {
      "image/png": "[encoded data removed]",
      "text/plain": [
       "<Figure size 432x288 with 1 Axes>"
      ]
     },
     "metadata": {},
     "output_type": "display_data"
    }
   ],
   "source": [
    "pd.Series(rf.feature_importances_,index=X_train.columns).sort_values(ascending=False).plot(kind='bar')#to find the important features"
   ]
  },
  {
   "cell_type": "code",
   "execution_count": 384,
   "metadata": {},
   "outputs": [
    {
     "data": {
      "text/plain": [
       "0.7666666666666667"
      ]
     },
     "execution_count": 384,
     "metadata": {},
     "output_type": "execute_result"
    }
   ],
   "source": [
    "rf.score(X_test,Y_test)"
   ]
  },
  {
   "cell_type": "code",
   "execution_count": 385,
   "metadata": {},
   "outputs": [
    {
     "data": {
      "text/plain": [
       "2"
      ]
     },
     "execution_count": 385,
     "metadata": {},
     "output_type": "execute_result"
    }
   ],
   "source": [
    "rf.max_depth"
   ]
  },
  {
   "cell_type": "code",
   "execution_count": null,
   "metadata": {},
   "outputs": [],
   "source": []
  }
 ],
 "metadata": {
  "kernelspec": {
   "display_name": "Python 3",
   "language": "python",
   "name": "python3"
  },
  "language_info": {
   "codemirror_mode": {
    "name": "ipython",
    "version": 3
   },
   "file_extension": ".py",
   "mimetype": "text/x-python",
   "name": "python",
   "nbconvert_exporter": "python",
   "pygments_lexer": "ipython3",
   "version": "3.6.5"
  }
 },
 "nbformat": 4,
 "nbformat_minor": 2
}
